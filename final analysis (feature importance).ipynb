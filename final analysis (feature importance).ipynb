{
 "cells": [
  {
   "cell_type": "markdown",
   "id": "6a08bc35",
   "metadata": {},
   "source": [
    "### Load libraries"
   ]
  },
  {
   "cell_type": "code",
   "execution_count": 53,
   "id": "33c1f88f",
   "metadata": {},
   "outputs": [
    {
     "name": "stdout",
     "output_type": "stream",
     "text": [
      "3.10.13 | packaged by Anaconda, Inc. | (main, Sep 11 2023, 13:24:38) [MSC v.1916 64 bit (AMD64)]\n",
      "1.3.2\n"
     ]
    }
   ],
   "source": [
    "import sys\n",
    "import pandas as pd\n",
    "import numpy as np\n",
    "import matplotlib.pyplot as plt\n",
    "%matplotlib inline\n",
    "import warnings\n",
    "warnings.filterwarnings('ignore')\n",
    "from sklearn import set_config\n",
    "set_config(display=\"diagram\")\n",
    "np.random.seed(42)\n",
    "\n",
    "import sklearn\n",
    "from sklearn.model_selection import train_test_split, GridSearchCV, cross_val_score\n",
    "from sklearn.pipeline import make_pipeline\n",
    "from sklearn.preprocessing import PolynomialFeatures, OneHotEncoder\n",
    "from sklearn.dummy import DummyClassifier\n",
    "from sklearn.linear_model import LogisticRegression\n",
    "from sklearn.ensemble import RandomForestClassifier\n",
    "from sklearn.tree import DecisionTreeClassifier\n",
    "from sklearn.neighbors import KNeighborsClassifier\n",
    "from sklearn.svm import SVC\n",
    "from sklearn.metrics import f1_score, classification_report, confusion_matrix, ConfusionMatrixDisplay\n",
    "\n",
    "from sklearn.inspection import permutation_importance\n",
    "\n",
    "\n",
    "\n",
    "\n",
    "\n",
    "print(sys.version) # version of Python\n",
    "print(sklearn.__version__) # version of sklearn module"
   ]
  },
  {
   "cell_type": "markdown",
   "id": "8a400f16",
   "metadata": {},
   "source": [
    "### 1. Data exploration"
   ]
  },
  {
   "cell_type": "code",
   "execution_count": 54,
   "id": "8cb2d750",
   "metadata": {},
   "outputs": [
    {
     "data": {
      "text/html": [
       "<div>\n",
       "<style scoped>\n",
       "    .dataframe tbody tr th:only-of-type {\n",
       "        vertical-align: middle;\n",
       "    }\n",
       "\n",
       "    .dataframe tbody tr th {\n",
       "        vertical-align: top;\n",
       "    }\n",
       "\n",
       "    .dataframe thead th {\n",
       "        text-align: right;\n",
       "    }\n",
       "</style>\n",
       "<table border=\"1\" class=\"dataframe\">\n",
       "  <thead>\n",
       "    <tr style=\"text-align: right;\">\n",
       "      <th></th>\n",
       "      <th>Punish</th>\n",
       "      <th>Ignite</th>\n",
       "      <th>Smite</th>\n",
       "      <th>Ghost</th>\n",
       "      <th>Heal</th>\n",
       "      <th>Interfere</th>\n",
       "      <th>Stifle</th>\n",
       "      <th>Cleanse</th>\n",
       "      <th>Exhaust</th>\n",
       "      <th>Flash</th>\n",
       "      <th>...</th>\n",
       "      <th>PositionMostPlay_1</th>\n",
       "      <th>PositionMostPlay_2</th>\n",
       "      <th>PositionMostPlay_3</th>\n",
       "      <th>PositionMostPlay_4</th>\n",
       "      <th>PositionMostPlay_5</th>\n",
       "      <th>PositionLeastPlay_1</th>\n",
       "      <th>PositionLeastPlay_2</th>\n",
       "      <th>PositionLeastPlay_3</th>\n",
       "      <th>PositionLeastPlay_4</th>\n",
       "      <th>PositionLeastPlay_5</th>\n",
       "    </tr>\n",
       "  </thead>\n",
       "  <tbody>\n",
       "    <tr>\n",
       "      <th>0</th>\n",
       "      <td>0</td>\n",
       "      <td>0</td>\n",
       "      <td>1</td>\n",
       "      <td>0</td>\n",
       "      <td>0</td>\n",
       "      <td>0</td>\n",
       "      <td>0</td>\n",
       "      <td>0</td>\n",
       "      <td>0</td>\n",
       "      <td>1</td>\n",
       "      <td>...</td>\n",
       "      <td>0</td>\n",
       "      <td>0</td>\n",
       "      <td>0</td>\n",
       "      <td>0</td>\n",
       "      <td>1</td>\n",
       "      <td>1</td>\n",
       "      <td>0</td>\n",
       "      <td>0</td>\n",
       "      <td>0</td>\n",
       "      <td>0</td>\n",
       "    </tr>\n",
       "    <tr>\n",
       "      <th>1</th>\n",
       "      <td>0</td>\n",
       "      <td>0</td>\n",
       "      <td>0</td>\n",
       "      <td>1</td>\n",
       "      <td>1</td>\n",
       "      <td>0</td>\n",
       "      <td>0</td>\n",
       "      <td>0</td>\n",
       "      <td>0</td>\n",
       "      <td>1</td>\n",
       "      <td>...</td>\n",
       "      <td>1</td>\n",
       "      <td>0</td>\n",
       "      <td>0</td>\n",
       "      <td>0</td>\n",
       "      <td>0</td>\n",
       "      <td>0</td>\n",
       "      <td>0</td>\n",
       "      <td>0</td>\n",
       "      <td>1</td>\n",
       "      <td>0</td>\n",
       "    </tr>\n",
       "    <tr>\n",
       "      <th>2</th>\n",
       "      <td>1</td>\n",
       "      <td>0</td>\n",
       "      <td>0</td>\n",
       "      <td>0</td>\n",
       "      <td>1</td>\n",
       "      <td>0</td>\n",
       "      <td>0</td>\n",
       "      <td>0</td>\n",
       "      <td>0</td>\n",
       "      <td>1</td>\n",
       "      <td>...</td>\n",
       "      <td>0</td>\n",
       "      <td>0</td>\n",
       "      <td>0</td>\n",
       "      <td>1</td>\n",
       "      <td>0</td>\n",
       "      <td>0</td>\n",
       "      <td>1</td>\n",
       "      <td>0</td>\n",
       "      <td>0</td>\n",
       "      <td>0</td>\n",
       "    </tr>\n",
       "    <tr>\n",
       "      <th>3</th>\n",
       "      <td>0</td>\n",
       "      <td>1</td>\n",
       "      <td>0</td>\n",
       "      <td>0</td>\n",
       "      <td>0</td>\n",
       "      <td>0</td>\n",
       "      <td>0</td>\n",
       "      <td>0</td>\n",
       "      <td>0</td>\n",
       "      <td>0</td>\n",
       "      <td>...</td>\n",
       "      <td>0</td>\n",
       "      <td>0</td>\n",
       "      <td>0</td>\n",
       "      <td>0</td>\n",
       "      <td>1</td>\n",
       "      <td>1</td>\n",
       "      <td>0</td>\n",
       "      <td>0</td>\n",
       "      <td>0</td>\n",
       "      <td>0</td>\n",
       "    </tr>\n",
       "    <tr>\n",
       "      <th>4</th>\n",
       "      <td>0</td>\n",
       "      <td>0</td>\n",
       "      <td>0</td>\n",
       "      <td>0</td>\n",
       "      <td>0</td>\n",
       "      <td>0</td>\n",
       "      <td>0</td>\n",
       "      <td>0</td>\n",
       "      <td>0</td>\n",
       "      <td>1</td>\n",
       "      <td>...</td>\n",
       "      <td>0</td>\n",
       "      <td>0</td>\n",
       "      <td>0</td>\n",
       "      <td>0</td>\n",
       "      <td>1</td>\n",
       "      <td>1</td>\n",
       "      <td>0</td>\n",
       "      <td>0</td>\n",
       "      <td>0</td>\n",
       "      <td>0</td>\n",
       "    </tr>\n",
       "  </tbody>\n",
       "</table>\n",
       "<p>5 rows × 81 columns</p>\n",
       "</div>"
      ],
      "text/plain": [
       "   Punish  Ignite  Smite  Ghost  Heal  Interfere  Stifle  Cleanse  Exhaust  \\\n",
       "0       0       0      1      0     0          0       0        0        0   \n",
       "1       0       0      0      1     1          0       0        0        0   \n",
       "2       1       0      0      0     1          0       0        0        0   \n",
       "3       0       1      0      0     0          0       0        0        0   \n",
       "4       0       0      0      0     0          0       0        0        0   \n",
       "\n",
       "   Flash  ...  PositionMostPlay_1  PositionMostPlay_2  PositionMostPlay_3  \\\n",
       "0      1  ...                   0                   0                   0   \n",
       "1      1  ...                   1                   0                   0   \n",
       "2      1  ...                   0                   0                   0   \n",
       "3      0  ...                   0                   0                   0   \n",
       "4      1  ...                   0                   0                   0   \n",
       "\n",
       "   PositionMostPlay_4  PositionMostPlay_5  PositionLeastPlay_1  \\\n",
       "0                   0                   1                    1   \n",
       "1                   0                   0                    0   \n",
       "2                   1                   0                    0   \n",
       "3                   0                   1                    1   \n",
       "4                   0                   1                    1   \n",
       "\n",
       "   PositionLeastPlay_2  PositionLeastPlay_3  PositionLeastPlay_4  \\\n",
       "0                    0                    0                    0   \n",
       "1                    0                    0                    1   \n",
       "2                    1                    0                    0   \n",
       "3                    0                    0                    0   \n",
       "4                    0                    0                    0   \n",
       "\n",
       "   PositionLeastPlay_5  \n",
       "0                    0  \n",
       "1                    0  \n",
       "2                    0  \n",
       "3                    0  \n",
       "4                    0  \n",
       "\n",
       "[5 rows x 81 columns]"
      ]
     },
     "execution_count": 54,
     "metadata": {},
     "output_type": "execute_result"
    }
   ],
   "source": [
    "data_path = 'game_data.csv'\n",
    "encoding = 'utf-8'\n",
    "data = pd.read_csv(data_path, delimiter=',', encoding=encoding)\n",
    "data.head()"
   ]
  },
  {
   "cell_type": "code",
   "execution_count": 55,
   "id": "53ed2178",
   "metadata": {},
   "outputs": [
    {
     "name": "stdout",
     "output_type": "stream",
     "text": [
      "<class 'pandas.core.frame.DataFrame'>\n",
      "RangeIndex: 1058 entries, 0 to 1057\n",
      "Data columns (total 81 columns):\n",
      " #   Column                   Non-Null Count  Dtype\n",
      "---  ------                   --------------  -----\n",
      " 0   Punish                   1058 non-null   int64\n",
      " 1   Ignite                   1058 non-null   int64\n",
      " 2   Smite                    1058 non-null   int64\n",
      " 3   Ghost                    1058 non-null   int64\n",
      " 4   Heal                     1058 non-null   int64\n",
      " 5   Interfere                1058 non-null   int64\n",
      " 6   Stifle                   1058 non-null   int64\n",
      " 7   Cleanse                  1058 non-null   int64\n",
      " 8   Exhaust                  1058 non-null   int64\n",
      " 9   Flash                    1058 non-null   int64\n",
      " 10  Neuroticism              1058 non-null   int64\n",
      " 11  Extraversion             1058 non-null   int64\n",
      " 12  Openness                 1058 non-null   int64\n",
      " 13  Agreeableness            1058 non-null   int64\n",
      " 14  Conscientiousness        1058 non-null   int64\n",
      " 15  FavouriteRole_1          1058 non-null   int64\n",
      " 16  FavouriteRole_2          1058 non-null   int64\n",
      " 17  FavouriteRole_3          1058 non-null   int64\n",
      " 18  FavouriteRole_4          1058 non-null   int64\n",
      " 19  FavouriteRole_5          1058 non-null   int64\n",
      " 20  FavouriteRole_6          1058 non-null   int64\n",
      " 21  LeastFavoriteRole_1      1058 non-null   int64\n",
      " 22  LeastFavoriteRole_2      1058 non-null   int64\n",
      " 23  LeastFavoriteRole_3      1058 non-null   int64\n",
      " 24  LeastFavoriteRole_4      1058 non-null   int64\n",
      " 25  LeastFavoriteRole_5      1058 non-null   int64\n",
      " 26  LeastFavoriteRole_6      1058 non-null   int64\n",
      " 27  RoleMostPlay_1           1058 non-null   int64\n",
      " 28  RoleMostPlay_2           1058 non-null   int64\n",
      " 29  RoleMostPlay_3           1058 non-null   int64\n",
      " 30  RoleMostPlay_4           1058 non-null   int64\n",
      " 31  RoleMostPlay_5           1058 non-null   int64\n",
      " 32  RoleMostPlay_6           1058 non-null   int64\n",
      " 33  RoleLeastPlay_1          1058 non-null   int64\n",
      " 34  RoleLeastPlay_2          1058 non-null   int64\n",
      " 35  RoleLeastPlay_3          1058 non-null   int64\n",
      " 36  RoleLeastPlay_4          1058 non-null   int64\n",
      " 37  RoleLeastPlay_5          1058 non-null   int64\n",
      " 38  RoleLeastPlay_6          1058 non-null   int64\n",
      " 39  BestRole_1               1058 non-null   int64\n",
      " 40  BestRole_2               1058 non-null   int64\n",
      " 41  BestRole_3               1058 non-null   int64\n",
      " 42  BestRole_4               1058 non-null   int64\n",
      " 43  BestRole_5               1058 non-null   int64\n",
      " 44  BestRole_6               1058 non-null   int64\n",
      " 45  WorstRole_1              1058 non-null   int64\n",
      " 46  WorstRole_2              1058 non-null   int64\n",
      " 47  WorstRole_3              1058 non-null   int64\n",
      " 48  WorstRole_4              1058 non-null   int64\n",
      " 49  WorstRole_5              1058 non-null   int64\n",
      " 50  WorstRole_6              1058 non-null   int64\n",
      " 51  FavoritePosition_1       1058 non-null   int64\n",
      " 52  FavoritePosition_2       1058 non-null   int64\n",
      " 53  FavoritePosition_3       1058 non-null   int64\n",
      " 54  FavoritePosition_4       1058 non-null   int64\n",
      " 55  FavoritePosition_5       1058 non-null   int64\n",
      " 56  LeastFavoritePosition_1  1058 non-null   int64\n",
      " 57  LeastFavoritePosition_2  1058 non-null   int64\n",
      " 58  LeastFavoritePosition_3  1058 non-null   int64\n",
      " 59  LeastFavoritePosition_4  1058 non-null   int64\n",
      " 60  LeastFavoritePosition_5  1058 non-null   int64\n",
      " 61  BestPosition_1           1058 non-null   int64\n",
      " 62  BestPosition_2           1058 non-null   int64\n",
      " 63  BestPosition_3           1058 non-null   int64\n",
      " 64  BestPosition_4           1058 non-null   int64\n",
      " 65  BestPosition_5           1058 non-null   int64\n",
      " 66  WorstPosition_1          1058 non-null   int64\n",
      " 67  WorstPosition_2          1058 non-null   int64\n",
      " 68  WorstPosition_3          1058 non-null   int64\n",
      " 69  WorstPosition_4          1058 non-null   int64\n",
      " 70  WorstPosition_5          1058 non-null   int64\n",
      " 71  PositionMostPlay_1       1058 non-null   int64\n",
      " 72  PositionMostPlay_2       1058 non-null   int64\n",
      " 73  PositionMostPlay_3       1058 non-null   int64\n",
      " 74  PositionMostPlay_4       1058 non-null   int64\n",
      " 75  PositionMostPlay_5       1058 non-null   int64\n",
      " 76  PositionLeastPlay_1      1058 non-null   int64\n",
      " 77  PositionLeastPlay_2      1058 non-null   int64\n",
      " 78  PositionLeastPlay_3      1058 non-null   int64\n",
      " 79  PositionLeastPlay_4      1058 non-null   int64\n",
      " 80  PositionLeastPlay_5      1058 non-null   int64\n",
      "dtypes: int64(81)\n",
      "memory usage: 669.6 KB\n"
     ]
    }
   ],
   "source": [
    "data.info()"
   ]
  },
  {
   "cell_type": "code",
   "execution_count": 56,
   "id": "498a2e93",
   "metadata": {},
   "outputs": [
    {
     "name": "stdout",
     "output_type": "stream",
     "text": [
      "Neuroticism\n",
      "1    0.50189\n",
      "0    0.49811\n",
      "Name: proportion, dtype: float64\n"
     ]
    }
   ],
   "source": [
    "# calculate the class distribution percentage \n",
    "print(data['Neuroticism'].value_counts(normalize=True))"
   ]
  },
  {
   "cell_type": "code",
   "execution_count": 57,
   "id": "d906d38c",
   "metadata": {},
   "outputs": [
    {
     "name": "stdout",
     "output_type": "stream",
     "text": [
      "Extraversion\n",
      "1    0.500945\n",
      "0    0.499055\n",
      "Name: proportion, dtype: float64\n"
     ]
    }
   ],
   "source": [
    "# calculate the class distribution percentage \n",
    "print(data['Extraversion'].value_counts(normalize=True))"
   ]
  },
  {
   "cell_type": "code",
   "execution_count": 58,
   "id": "ac5f2548",
   "metadata": {},
   "outputs": [
    {
     "name": "stdout",
     "output_type": "stream",
     "text": [
      "Openness\n",
      "1    0.545369\n",
      "0    0.454631\n",
      "Name: proportion, dtype: float64\n"
     ]
    }
   ],
   "source": [
    "# calculate the class distribution percentage \n",
    "print(data['Openness'].value_counts(normalize=True))"
   ]
  },
  {
   "cell_type": "code",
   "execution_count": 59,
   "id": "a2eaf22d",
   "metadata": {},
   "outputs": [
    {
     "name": "stdout",
     "output_type": "stream",
     "text": [
      "Agreeableness\n",
      "1    0.551985\n",
      "0    0.448015\n",
      "Name: proportion, dtype: float64\n"
     ]
    }
   ],
   "source": [
    "# calculate the class distribution percentage \n",
    "print(data['Agreeableness'].value_counts(normalize=True))"
   ]
  },
  {
   "cell_type": "code",
   "execution_count": 60,
   "id": "a00e6f12",
   "metadata": {},
   "outputs": [
    {
     "name": "stdout",
     "output_type": "stream",
     "text": [
      "Conscientiousness\n",
      "1    0.504726\n",
      "0    0.495274\n",
      "Name: proportion, dtype: float64\n"
     ]
    }
   ],
   "source": [
    "# calculate the class distribution percentage \n",
    "print(data['Conscientiousness'].value_counts(normalize=True))"
   ]
  },
  {
   "cell_type": "code",
   "execution_count": 61,
   "id": "9035c09a",
   "metadata": {},
   "outputs": [
    {
     "name": "stdout",
     "output_type": "stream",
     "text": [
      "Index(['Punish', 'Ignite', 'Smite', 'Ghost', 'Heal', 'Interfere', 'Stifle',\n",
      "       'Cleanse', 'Exhaust', 'Flash', 'Neuroticism', 'Extraversion',\n",
      "       'Openness', 'Agreeableness', 'Conscientiousness', 'FavouriteRole_1',\n",
      "       'FavouriteRole_2', 'FavouriteRole_3', 'FavouriteRole_4',\n",
      "       'FavouriteRole_5', 'FavouriteRole_6', 'LeastFavoriteRole_1',\n",
      "       'LeastFavoriteRole_2', 'LeastFavoriteRole_3', 'LeastFavoriteRole_4',\n",
      "       'LeastFavoriteRole_5', 'LeastFavoriteRole_6', 'RoleMostPlay_1',\n",
      "       'RoleMostPlay_2', 'RoleMostPlay_3', 'RoleMostPlay_4', 'RoleMostPlay_5',\n",
      "       'RoleMostPlay_6', 'RoleLeastPlay_1', 'RoleLeastPlay_2',\n",
      "       'RoleLeastPlay_3', 'RoleLeastPlay_4', 'RoleLeastPlay_5',\n",
      "       'RoleLeastPlay_6', 'BestRole_1', 'BestRole_2', 'BestRole_3',\n",
      "       'BestRole_4', 'BestRole_5', 'BestRole_6', 'WorstRole_1', 'WorstRole_2',\n",
      "       'WorstRole_3', 'WorstRole_4', 'WorstRole_5', 'WorstRole_6',\n",
      "       'FavoritePosition_1', 'FavoritePosition_2', 'FavoritePosition_3',\n",
      "       'FavoritePosition_4', 'FavoritePosition_5', 'LeastFavoritePosition_1',\n",
      "       'LeastFavoritePosition_2', 'LeastFavoritePosition_3',\n",
      "       'LeastFavoritePosition_4', 'LeastFavoritePosition_5', 'BestPosition_1',\n",
      "       'BestPosition_2', 'BestPosition_3', 'BestPosition_4', 'BestPosition_5',\n",
      "       'WorstPosition_1', 'WorstPosition_2', 'WorstPosition_3',\n",
      "       'WorstPosition_4', 'WorstPosition_5', 'PositionMostPlay_1',\n",
      "       'PositionMostPlay_2', 'PositionMostPlay_3', 'PositionMostPlay_4',\n",
      "       'PositionMostPlay_5', 'PositionLeastPlay_1', 'PositionLeastPlay_2',\n",
      "       'PositionLeastPlay_3', 'PositionLeastPlay_4', 'PositionLeastPlay_5'],\n",
      "      dtype='object')\n"
     ]
    }
   ],
   "source": [
    "print(data.columns)\n"
   ]
  },
  {
   "cell_type": "code",
   "execution_count": 62,
   "id": "d57fac68",
   "metadata": {},
   "outputs": [],
   "source": [
    "X = data[['Punish', 'Ignite', 'Smite', 'Ghost', 'Heal', 'Interfere', 'Stifle',\n",
    "       'Cleanse', 'Exhaust', 'Flash','FavouriteRole_1',\n",
    "       'FavouriteRole_2', 'FavouriteRole_3', 'FavouriteRole_4',\n",
    "       'FavouriteRole_5', 'FavouriteRole_6', 'LeastFavoriteRole_1',\n",
    "       'LeastFavoriteRole_2', 'LeastFavoriteRole_3', 'LeastFavoriteRole_4',\n",
    "       'LeastFavoriteRole_5', 'LeastFavoriteRole_6', 'RoleMostPlay_1',\n",
    "       'RoleMostPlay_2', 'RoleMostPlay_3', 'RoleMostPlay_4', 'RoleMostPlay_5',\n",
    "       'RoleMostPlay_6', 'RoleLeastPlay_1', 'RoleLeastPlay_2',\n",
    "       'RoleLeastPlay_3', 'RoleLeastPlay_4', 'RoleLeastPlay_5',\n",
    "       'RoleLeastPlay_6', 'BestRole_1', 'BestRole_2', 'BestRole_3',\n",
    "       'BestRole_4', 'BestRole_5', 'BestRole_6', 'WorstRole_1', 'WorstRole_2',\n",
    "       'WorstRole_3', 'WorstRole_4', 'WorstRole_5', 'WorstRole_6',\n",
    "       'FavoritePosition_1', 'FavoritePosition_2', 'FavoritePosition_3',\n",
    "       'FavoritePosition_4', 'FavoritePosition_5', 'LeastFavoritePosition_1',\n",
    "       'LeastFavoritePosition_2', 'LeastFavoritePosition_3',\n",
    "       'LeastFavoritePosition_4', 'LeastFavoritePosition_5', 'BestPosition_1',\n",
    "       'BestPosition_2', 'BestPosition_3', 'BestPosition_4', 'BestPosition_5',\n",
    "       'WorstPosition_1', 'WorstPosition_2', 'WorstPosition_3',\n",
    "       'WorstPosition_4', 'WorstPosition_5', 'PositionMostPlay_1',\n",
    "       'PositionMostPlay_2', 'PositionMostPlay_3', 'PositionMostPlay_4',\n",
    "       'PositionMostPlay_5', 'PositionLeastPlay_1', 'PositionLeastPlay_2',\n",
    "       'PositionLeastPlay_3', 'PositionLeastPlay_4', 'PositionLeastPlay_5']]\n"
   ]
  },
  {
   "cell_type": "markdown",
   "id": "e1ed33e7",
   "metadata": {},
   "source": [
    "### 2. Experiments"
   ]
  },
  {
   "cell_type": "markdown",
   "id": "fe9a6c93",
   "metadata": {},
   "source": [
    "### 2.1 Neuroticism"
   ]
  },
  {
   "cell_type": "markdown",
   "id": "143ca074",
   "metadata": {},
   "source": [
    "#### 2.1.1 Split data "
   ]
  },
  {
   "cell_type": "code",
   "execution_count": 63,
   "id": "153bb136",
   "metadata": {},
   "outputs": [
    {
     "data": {
      "text/plain": [
       "((793, 76), (265, 76), (793,), (265,))"
      ]
     },
     "execution_count": 63,
     "metadata": {},
     "output_type": "execute_result"
    }
   ],
   "source": [
    "\n",
    "y = data['Neuroticism']\n",
    "    \n",
    "X_train, X_test, y_train, y_test = train_test_split(X, y, test_size=0.25, stratify=y, random_state=42, shuffle=True,)\n",
    "X_train.shape, X_test.shape, y_train.shape, y_test.shape"
   ]
  },
  {
   "cell_type": "markdown",
   "id": "87e09f1f",
   "metadata": {},
   "source": [
    "#### 2.1.2 Baseline model"
   ]
  },
  {
   "cell_type": "code",
   "execution_count": 64,
   "id": "9c7b4b67",
   "metadata": {},
   "outputs": [
    {
     "name": "stdout",
     "output_type": "stream",
     "text": [
      "0.501891551071879\n",
      "0.33417085427135673\n"
     ]
    }
   ],
   "source": [
    "dummy = DummyClassifier(strategy=\"most_frequent\", random_state=42)\n",
    "dummy.fit(X_train, y_train)\n",
    "accuracy = dummy.score(X_train, y_train)\n",
    "print(accuracy)\n",
    "\n",
    "y_pred = dummy.predict(X_test)\n",
    "f1 = f1_score(y_test, y_pred, average='macro')\n",
    "print(f1)"
   ]
  },
  {
   "cell_type": "markdown",
   "id": "04782ce6",
   "metadata": {},
   "source": [
    "#### 2.1.3 Model performance comparison (evaluation metric: macro F1 score)"
   ]
  },
  {
   "cell_type": "markdown",
   "id": "e4d73b11",
   "metadata": {},
   "source": [
    "#### 1) Logistic Regression \n",
    "#### 10-fold gridsearch cv to fine tune the hyperparameters"
   ]
  },
  {
   "cell_type": "code",
   "execution_count": 65,
   "id": "9093bba2",
   "metadata": {
    "scrolled": true
   },
   "outputs": [
    {
     "name": "stdout",
     "output_type": "stream",
     "text": [
      "Fitting 10 folds for each of 20 candidates, totalling 200 fits\n",
      "best score: 0.6693592692231615\n",
      "best params: {'logisticregression__C': 0.1, 'logisticregression__solver': 'newton-cg'}\n"
     ]
    }
   ],
   "source": [
    "\n",
    "lr = make_pipeline(LogisticRegression(class_weight='balanced', random_state=42))\n",
    "\n",
    "lr_param_grid={'logisticregression__C': [0.01, 0.1, 1.0, 10, 100],\n",
    "               'logisticregression__solver': ['newton-cg', 'sag', 'saga','lbfgs']}\n",
    "\n",
    "lr_gs = GridSearchCV(lr, lr_param_grid, cv=10, scoring='f1_macro', n_jobs=-1, verbose=1, refit=True)\n",
    "lr_gs.fit(X_train, y_train)\n",
    "\n",
    "print(f\"best score: {lr_gs.best_score_}\")\n",
    "print(f\"best params: {lr_gs.best_params_}\")"
   ]
  },
  {
   "cell_type": "markdown",
   "id": "e80125dd",
   "metadata": {},
   "source": [
    "#### 10-fold cv to make sure the model is not overfitting"
   ]
  },
  {
   "cell_type": "code",
   "execution_count": 66,
   "id": "c844cb87",
   "metadata": {},
   "outputs": [
    {
     "name": "stdout",
     "output_type": "stream",
     "text": [
      "[0.62406015 0.775      0.71137255 0.6127451  0.6573494  0.61970475\n",
      " 0.69498069 0.60734327 0.72147436 0.66956242]\n",
      "0.6693592692231615\n",
      "0.052924972860890415\n"
     ]
    }
   ],
   "source": [
    "best_lr = lr_gs.best_estimator_\n",
    "\n",
    "cv_scores_lr = cross_val_score(best_lr, X_train, y_train, cv=10, scoring='f1_macro')\n",
    "print(cv_scores_lr)\n",
    "print(cv_scores_lr.mean())\n",
    "print(cv_scores_lr.std())             "
   ]
  },
  {
   "cell_type": "markdown",
   "id": "2434d32d",
   "metadata": {},
   "source": [
    "#### hold-out method to evaluate the classification performance"
   ]
  },
  {
   "cell_type": "code",
   "execution_count": 67,
   "id": "95f05b27",
   "metadata": {},
   "outputs": [
    {
     "name": "stdout",
     "output_type": "stream",
     "text": [
      "              precision    recall  f1-score   support\n",
      "\n",
      "           0       0.65      0.62      0.64       132\n",
      "           1       0.64      0.67      0.65       133\n",
      "\n",
      "    accuracy                           0.65       265\n",
      "   macro avg       0.65      0.65      0.65       265\n",
      "weighted avg       0.65      0.65      0.65       265\n",
      "\n"
     ]
    }
   ],
   "source": [
    "best_lr.fit(X_train, y_train)\n",
    "lr_pred = best_lr.predict(X_test)\n",
    "print(classification_report(y_test, lr_pred))"
   ]
  },
  {
   "cell_type": "markdown",
   "id": "e3650bb8",
   "metadata": {},
   "source": [
    "#### 2) Decision Tree \n",
    "#### 10-fold gridsearch cv to fine tune the hyperparameters"
   ]
  },
  {
   "cell_type": "code",
   "execution_count": 68,
   "id": "6779d101",
   "metadata": {},
   "outputs": [
    {
     "name": "stdout",
     "output_type": "stream",
     "text": [
      "Fitting 10 folds for each of 27 candidates, totalling 270 fits\n",
      "best score: 0.6315135588237805\n",
      "best params: {'decisiontreeclassifier__criterion': 'entropy', 'decisiontreeclassifier__max_depth': 30}\n"
     ]
    }
   ],
   "source": [
    "dt = make_pipeline(DecisionTreeClassifier(class_weight='balanced', random_state=42))\n",
    "\n",
    "dt_param_grid={'decisiontreeclassifier__criterion': ['gini', 'entropy', 'log_loss'],\n",
    "               'decisiontreeclassifier__max_depth': [20, 30, 40, 50, 60, 70, 80, 90, 100]}\n",
    "\n",
    "dt_gs = GridSearchCV(dt, dt_param_grid, cv=10, scoring='f1_macro', n_jobs=-1, verbose=1, refit=True)\n",
    "dt_gs.fit(X_train, y_train)\n",
    "\n",
    "print(f\"best score: {dt_gs.best_score_}\")\n",
    "print(f\"best params: {dt_gs.best_params_}\")"
   ]
  },
  {
   "cell_type": "markdown",
   "id": "a568d994",
   "metadata": {},
   "source": [
    "#### 10-fold cv to make sure the model is not overfitting"
   ]
  },
  {
   "cell_type": "code",
   "execution_count": 69,
   "id": "6bfb0116",
   "metadata": {},
   "outputs": [
    {
     "name": "stdout",
     "output_type": "stream",
     "text": [
      "[0.54745443 0.73745898 0.58588235 0.62019231 0.62019231 0.62019231\n",
      " 0.57985496 0.67041078 0.65015581 0.68334135]\n",
      "0.6315135588237805\n",
      "0.05288889001585791\n"
     ]
    }
   ],
   "source": [
    "best_dt = dt_gs.best_estimator_\n",
    "\n",
    "cv_scores_dt = cross_val_score(best_dt, X_train, y_train, cv=10, scoring='f1_macro')\n",
    "print(cv_scores_dt)\n",
    "print(cv_scores_dt.mean())\n",
    "print(cv_scores_dt.std())     "
   ]
  },
  {
   "cell_type": "markdown",
   "id": "d9259c32",
   "metadata": {},
   "source": [
    "#### hold-out method to evaluate the classification performance"
   ]
  },
  {
   "cell_type": "code",
   "execution_count": 70,
   "id": "5317ff41",
   "metadata": {},
   "outputs": [
    {
     "name": "stdout",
     "output_type": "stream",
     "text": [
      "[1 1 1 1 1 0 0 1 0 0 1 0 0 1 0 1 0 0 1 1 0 0 1 0 1 1 0 1 1 0 1 1 1 0 0 0 1\n",
      " 0 0 1 1 1 0 0 1 1 1 0 1 1 1 1 1 1 1 0 1 1 1 1 0 0 1 0 0 0 1 0 1 0 0 0 1 0\n",
      " 1 1 0 0 0 0 0 1 0 1 1 1 1 1 1 1 1 0 0 0 1 1 0 0 1 1 1 0 0 0 0 1 1 0 1 1 1\n",
      " 0 0 0 1 1 1 1 1 1 1 1 1 1 0 1 1 0 1 1 1 1 1 0 1 0 0 1 1 1 1 1 1 1 1 1 1 0\n",
      " 0 0 0 0 0 1 0 0 1 1 1 1 0 1 0 0 1 0 0 1 1 1 0 1 0 0 0 1 0 0 0 1 1 0 1 1 0\n",
      " 1 1 0 0 1 0 0 1 0 0 1 1 1 0 0 0 0 1 1 0 1 0 1 1 0 0 1 0 0 1 0 1 1 1 0 1 1\n",
      " 0 1 0 0 0 0 0 0 0 1 0 1 0 0 0 0 1 1 0 0 1 1 1 1 0 0 0 0 0 0 1 1 1 0 0 0 1\n",
      " 1 1 1 0 0 0]\n",
      "              precision    recall  f1-score   support\n",
      "\n",
      "           0       0.56      0.53      0.55       132\n",
      "           1       0.56      0.59      0.58       133\n",
      "\n",
      "    accuracy                           0.56       265\n",
      "   macro avg       0.56      0.56      0.56       265\n",
      "weighted avg       0.56      0.56      0.56       265\n",
      "\n"
     ]
    }
   ],
   "source": [
    "best_dt.fit(X_train, y_train)\n",
    "dt_pred = best_dt.predict(X_test)\n",
    "print(dt_pred)\n",
    "print(classification_report(y_test, dt_pred))"
   ]
  },
  {
   "cell_type": "markdown",
   "id": "a3fe1b34",
   "metadata": {},
   "source": [
    "#### 3) Random Forest \n",
    "#### 10-fold gridsearch cv to fine tune the hyperparameters"
   ]
  },
  {
   "cell_type": "code",
   "execution_count": null,
   "id": "5bc96ad9",
   "metadata": {},
   "outputs": [
    {
     "name": "stdout",
     "output_type": "stream",
     "text": [
      "Fitting 10 folds for each of 27 candidates, totalling 270 fits\n"
     ]
    }
   ],
   "source": [
    "rf = make_pipeline(RandomForestClassifier(class_weight='balanced', random_state=42))\n",
    "\n",
    "rf_param_grid={'randomforestclassifier__n_estimators': [150, 300, 500],\n",
    "               'randomforestclassifier__criterion': ['gini', 'entropy', 'log_loss'],\n",
    "               'randomforestclassifier__max_depth': [30, 40, 50]}\n",
    "\n",
    "rf_gs = GridSearchCV(rf, rf_param_grid, cv=10, scoring='f1_macro', n_jobs=-1, verbose=1, refit=True)\n",
    "rf_gs.fit(X_train, y_train)\n",
    "\n",
    "print(f\"best score: {rf_gs.best_score_}\")\n",
    "print(f\"best params: {rf_gs.best_params_}\")"
   ]
  },
  {
   "cell_type": "markdown",
   "id": "69327bb6",
   "metadata": {},
   "source": [
    "#### 10-fold cv to make sure the model is not overfitting"
   ]
  },
  {
   "cell_type": "code",
   "execution_count": null,
   "id": "430636d8",
   "metadata": {},
   "outputs": [
    {
     "name": "stdout",
     "output_type": "stream",
     "text": [
      "[0.64646465 0.76246288 0.72482802 0.67083333 0.74581725 0.66828165\n",
      " 0.8081593  0.70886076 0.8353375  0.69379845]\n",
      "0.7264843793440312\n",
      "0.058700482975544775\n"
     ]
    }
   ],
   "source": [
    "best_rf = rf_gs.best_estimator_\n",
    "\n",
    "cv_scores_rf = cross_val_score(best_rf, X_train, y_train, cv=10, scoring='f1_macro')\n",
    "print(cv_scores_rf)\n",
    "print(cv_scores_rf.mean())\n",
    "print(cv_scores_rf.std())     "
   ]
  },
  {
   "cell_type": "markdown",
   "id": "fe36b753",
   "metadata": {},
   "source": [
    "#### hold-out method to evaluate the classification model"
   ]
  },
  {
   "cell_type": "code",
   "execution_count": null,
   "id": "5aa97659",
   "metadata": {},
   "outputs": [
    {
     "name": "stdout",
     "output_type": "stream",
     "text": [
      "              precision    recall  f1-score   support\n",
      "\n",
      "           0       0.67      0.66      0.67       132\n",
      "           1       0.67      0.68      0.68       133\n",
      "\n",
      "    accuracy                           0.67       265\n",
      "   macro avg       0.67      0.67      0.67       265\n",
      "weighted avg       0.67      0.67      0.67       265\n",
      "\n"
     ]
    }
   ],
   "source": [
    "best_rf.fit(X_train, y_train)\n",
    "rf_pred = best_rf.predict(X_test)\n",
    "print(classification_report(y_test, rf_pred))"
   ]
  },
  {
   "cell_type": "markdown",
   "id": "d9595493",
   "metadata": {},
   "source": [
    "#### Feature importance"
   ]
  },
  {
   "cell_type": "code",
   "execution_count": null,
   "id": "515a9fae",
   "metadata": {},
   "outputs": [
    {
     "name": "stdout",
     "output_type": "stream",
     "text": [
      "Pipeline(steps=[('randomforestclassifier',\n",
      "                 RandomForestClassifier(class_weight='balanced', max_depth=30,\n",
      "                                        n_estimators=300, random_state=42))])\n"
     ]
    }
   ],
   "source": [
    "print(best_rf)"
   ]
  },
  {
   "cell_type": "code",
   "execution_count": null,
   "id": "8655ebc0",
   "metadata": {},
   "outputs": [
    {
     "data": {
      "text/plain": [
       "<Figure size 1000x1800 with 0 Axes>"
      ]
     },
     "metadata": {},
     "output_type": "display_data"
    },
    {
     "data": {
      "image/png": "[encoded data removed]",
      "text/plain": [
       "<Figure size 1000x1800 with 1 Axes>"
      ]
     },
     "metadata": {},
     "output_type": "display_data"
    }
   ],
   "source": [
    "\n",
    "feature_importance = best_rf.named_steps['randomforestclassifier'].feature_importances_\n",
    "\n",
    "\n",
    "feature_importance_df = pd.DataFrame({\n",
    "    'Feature': X_train.columns,\n",
    "    'Importance': feature_importance\n",
    "})\n",
    "\n",
    "feature_importance_df = feature_importance_df.sort_values(by='Importance', ascending=True)\n",
    "\n",
    "plt.figure(figsize=(10,18))\n",
    "\n",
    "\n",
    "\n",
    "\n",
    "plt.figure(figsize=(10, 18))\n",
    "plt.barh(feature_importance_df['Feature'], feature_importance_df['Importance'], color='#ABC6E4')\n",
    "plt.xlabel('Feature Importance')\n",
    "plt.ylabel('Encoded Feature Names')\n",
    "plt.title('Feature Importance of Random Forest Model Predicting Neuroticism')\n",
    "plt.show()\n"
   ]
  },
  {
   "cell_type": "markdown",
   "id": "deb28f8e",
   "metadata": {},
   "source": [
    "#### 4) KNN \n",
    "#### 10-fold gridsearch cv to fine tune hyperparameters"
   ]
  },
  {
   "cell_type": "code",
   "execution_count": null,
   "id": "1246189a",
   "metadata": {},
   "outputs": [
    {
     "name": "stdout",
     "output_type": "stream",
     "text": [
      "Fitting 10 folds for each of 44 candidates, totalling 440 fits\n",
      "best score: 0.646205025616574\n",
      "best params: {'kneighborsclassifier__algorithm': 'auto', 'kneighborsclassifier__n_neighbors': 3}\n"
     ]
    }
   ],
   "source": [
    "knn = make_pipeline(KNeighborsClassifier())\n",
    "\n",
    "knn_param_grid={'kneighborsclassifier__n_neighbors': [1, 2, 3, 4, 5, 6, 7, 8, 9, 10, 20],\n",
    "                'kneighborsclassifier__algorithm': ['auto', 'ball_tree', 'kd_tree', 'brute']}\n",
    "\n",
    "knn_gs = GridSearchCV(knn, knn_param_grid, cv=10, scoring='f1_macro', n_jobs=-1, verbose=1, refit=True)\n",
    "knn_gs.fit(X_train, y_train)\n",
    "\n",
    "print(f\"best score: {knn_gs.best_score_}\")\n",
    "print(f\"best params: {knn_gs.best_params_}\")"
   ]
  },
  {
   "cell_type": "markdown",
   "id": "6ee81c24",
   "metadata": {},
   "source": [
    "#### 10-fold cv to make sure the model is not overfitting"
   ]
  },
  {
   "cell_type": "code",
   "execution_count": null,
   "id": "5f1e0c2c",
   "metadata": {},
   "outputs": [
    {
     "name": "stdout",
     "output_type": "stream",
     "text": [
      "[0.6347032  0.72482802 0.55406912 0.58201058 0.65800866 0.62019231\n",
      " 0.73142302 0.64551282 0.67839114 0.63291139]\n",
      "0.646205025616574\n",
      "0.05311784878267531\n"
     ]
    }
   ],
   "source": [
    "best_knn = knn_gs.best_estimator_\n",
    "\n",
    "cv_scores_knn = cross_val_score(best_knn, X_train, y_train, cv=10, scoring='f1_macro')\n",
    "print(cv_scores_knn)\n",
    "print(cv_scores_knn.mean())\n",
    "print(cv_scores_knn.std()) "
   ]
  },
  {
   "cell_type": "markdown",
   "id": "6362e1a8",
   "metadata": {},
   "source": [
    "#### hold-out method to evaluate the classification model"
   ]
  },
  {
   "cell_type": "code",
   "execution_count": null,
   "id": "94c9c0aa",
   "metadata": {},
   "outputs": [
    {
     "name": "stdout",
     "output_type": "stream",
     "text": [
      "              precision    recall  f1-score   support\n",
      "\n",
      "           0       0.61      0.65      0.63       132\n",
      "           1       0.63      0.58      0.60       133\n",
      "\n",
      "    accuracy                           0.62       265\n",
      "   macro avg       0.62      0.62      0.61       265\n",
      "weighted avg       0.62      0.62      0.61       265\n",
      "\n"
     ]
    }
   ],
   "source": [
    "best_knn.fit(X_train, y_train)\n",
    "knn_pred = best_knn.predict(X_test)\n",
    "print(classification_report(y_test, knn_pred))"
   ]
  },
  {
   "cell_type": "markdown",
   "id": "739a4b6c",
   "metadata": {},
   "source": [
    "#### 5) SVM \n",
    "#### 10-fold gridsearch cv to fine tune the hyperparameters"
   ]
  },
  {
   "cell_type": "code",
   "execution_count": null,
   "id": "688b4411",
   "metadata": {},
   "outputs": [
    {
     "name": "stdout",
     "output_type": "stream",
     "text": [
      "Fitting 10 folds for each of 20 candidates, totalling 200 fits\n",
      "best score: 0.700595246011357\n",
      "best params: {'svc__C': 100, 'svc__kernel': 'rbf'}\n"
     ]
    }
   ],
   "source": [
    "svm = make_pipeline( SVC(class_weight='balanced', random_state=42))\n",
    "\n",
    "svm_param_grid={'svc__kernel': ['linear', 'rbf', 'poly','sigmoid'],\n",
    "                'svc__C': [0.01, 0.1, 1.0, 10, 100]}\n",
    "\n",
    "svm_gs = GridSearchCV(svm, svm_param_grid, cv=10, scoring='f1_macro', n_jobs=-1, verbose=1, refit=True)\n",
    "svm_gs.fit(X_train, y_train)\n",
    "\n",
    "print(f\"best score: {svm_gs.best_score_}\")\n",
    "print(f\"best params: {svm_gs.best_params_}\")"
   ]
  },
  {
   "cell_type": "markdown",
   "id": "6d25a5a5",
   "metadata": {},
   "source": [
    "#### 10-fold cv to make sure the model is not overfitting"
   ]
  },
  {
   "cell_type": "code",
   "execution_count": null,
   "id": "a3e406bb",
   "metadata": {},
   "outputs": [
    {
     "name": "stdout",
     "output_type": "stream",
     "text": [
      "[0.63607843 0.65       0.71245507 0.70886076 0.78467212 0.64505777\n",
      " 0.73263497 0.66828165 0.74679487 0.72111682]\n",
      "0.700595246011357\n",
      "0.046594910722633553\n"
     ]
    }
   ],
   "source": [
    "best_svm = svm_gs.best_estimator_\n",
    "\n",
    "cv_scores_svm = cross_val_score(best_svm, X_train, y_train, cv=10, scoring='f1_macro')\n",
    "print(cv_scores_svm)\n",
    "print(cv_scores_svm.mean())\n",
    "print(cv_scores_svm.std()) "
   ]
  },
  {
   "cell_type": "markdown",
   "id": "863fe2aa",
   "metadata": {},
   "source": [
    "#### hold-out method to evaluate the classification model"
   ]
  },
  {
   "cell_type": "code",
   "execution_count": null,
   "id": "9a6716a0",
   "metadata": {},
   "outputs": [
    {
     "name": "stdout",
     "output_type": "stream",
     "text": [
      "              precision    recall  f1-score   support\n",
      "\n",
      "           0       0.64      0.64      0.64       132\n",
      "           1       0.64      0.65      0.64       133\n",
      "\n",
      "    accuracy                           0.64       265\n",
      "   macro avg       0.64      0.64      0.64       265\n",
      "weighted avg       0.64      0.64      0.64       265\n",
      "\n"
     ]
    }
   ],
   "source": [
    "best_svm.fit(X_train, y_train)\n",
    "svm_pred = best_svm.predict(X_test)\n",
    "print(classification_report(y_test, svm_pred))"
   ]
  },
  {
   "cell_type": "code",
   "execution_count": null,
   "id": "4e5673f6",
   "metadata": {},
   "outputs": [],
   "source": []
  },
  {
   "cell_type": "markdown",
   "id": "4e97ca6e",
   "metadata": {},
   "source": [
    "### 2.2 Extraversion"
   ]
  },
  {
   "cell_type": "markdown",
   "id": "7b384489",
   "metadata": {},
   "source": [
    "#### 2.2.1 Split data"
   ]
  },
  {
   "cell_type": "code",
   "execution_count": null,
   "id": "2ffaa4a5",
   "metadata": {},
   "outputs": [
    {
     "data": {
      "text/plain": [
       "((793, 76), (265, 76), (793,), (265,))"
      ]
     },
     "execution_count": 30,
     "metadata": {},
     "output_type": "execute_result"
    }
   ],
   "source": [
    "\n",
    "y2 = data['Extraversion']\n",
    "\n",
    "X_train2, X_test2, y_train2, y_test2 = train_test_split(X, y2, test_size=0.25, stratify=y2, random_state=42, shuffle=True,)\n",
    "X_train2.shape, X_test2.shape, y_train2.shape, y_test2.shape"
   ]
  },
  {
   "cell_type": "markdown",
   "id": "3889ce69",
   "metadata": {},
   "source": [
    "#### 2.2.2 Baseline model"
   ]
  },
  {
   "cell_type": "markdown",
   "id": "d2c7e298",
   "metadata": {},
   "source": [
    "#### most_frequent"
   ]
  },
  {
   "cell_type": "code",
   "execution_count": null,
   "id": "def8d7ce",
   "metadata": {},
   "outputs": [
    {
     "name": "stdout",
     "output_type": "stream",
     "text": [
      "0.5006305170239597\n",
      "0.33417085427135673\n"
     ]
    }
   ],
   "source": [
    "dummy2 = DummyClassifier(strategy=\"most_frequent\", random_state=42)\n",
    "dummy2.fit(X_train2, y_train2)\n",
    "accuracy2 = dummy2.score(X_train2, y_train2)\n",
    "print(accuracy2)\n",
    "\n",
    "y_pred2 = dummy2.predict(X_test2)\n",
    "f1_2 = f1_score(y_test2, y_pred2, average='macro')\n",
    "print(f1_2)"
   ]
  },
  {
   "cell_type": "markdown",
   "id": "90ceb0bd",
   "metadata": {},
   "source": [
    "#### 2.2.3 Model performance comparison (evaluation metric: macro F1 score)"
   ]
  },
  {
   "cell_type": "markdown",
   "id": "d00dfabc",
   "metadata": {},
   "source": [
    "#### 1) LogisticRegression \n",
    "#### 10-fold gridsearch cv to fine tune the hyperparameters"
   ]
  },
  {
   "cell_type": "code",
   "execution_count": null,
   "id": "0731aee5",
   "metadata": {},
   "outputs": [
    {
     "name": "stdout",
     "output_type": "stream",
     "text": [
      "Fitting 10 folds for each of 20 candidates, totalling 200 fits\n",
      "best score: 0.6480104214804794\n",
      "best params: {'logisticregression__C': 0.01, 'logisticregression__solver': 'newton-cg'}\n"
     ]
    }
   ],
   "source": [
    "lr2 = make_pipeline(LogisticRegression(class_weight='balanced', random_state=42))\n",
    "\n",
    "lr_param_grid2={'logisticregression__C': [0.01, 0.1, 1.0, 10, 100],\n",
    "               'logisticregression__solver': ['newton-cg', 'sag', 'saga','lbfgs']}\n",
    "\n",
    "lr_gs2 = GridSearchCV(lr2, lr_param_grid2, cv=10, scoring='f1_macro', n_jobs=-1, verbose=1, refit=True)\n",
    "lr_gs2.fit(X_train2, y_train2)\n",
    "\n",
    "print(f\"best score: {lr_gs2.best_score_}\")\n",
    "print(f\"best params: {lr_gs2.best_params_}\")"
   ]
  },
  {
   "cell_type": "markdown",
   "id": "f8f70f02",
   "metadata": {},
   "source": [
    "#### 10-fold cv to make sure the model is not overfitting"
   ]
  },
  {
   "cell_type": "code",
   "execution_count": null,
   "id": "27b305aa",
   "metadata": {},
   "outputs": [
    {
     "name": "stdout",
     "output_type": "stream",
     "text": [
      "[0.68627451 0.61243944 0.66202472 0.63196787 0.67041078 0.59173127\n",
      " 0.62019231 0.55439162 0.64414414 0.56899872]\n",
      "0.6242575384224662\n",
      "0.041238876205478156\n"
     ]
    }
   ],
   "source": [
    "best_lr2 = lr_gs.best_estimator_\n",
    "\n",
    "cv_scores_lr2 = cross_val_score(best_lr2, X_train2, y_train2, cv=10, scoring='f1_macro')\n",
    "print(cv_scores_lr2)\n",
    "print(cv_scores_lr2.mean())\n",
    "print(cv_scores_lr2.std()) "
   ]
  },
  {
   "cell_type": "markdown",
   "id": "3195a058",
   "metadata": {},
   "source": [
    "#### hold-out method to evaluate the classification model"
   ]
  },
  {
   "cell_type": "code",
   "execution_count": null,
   "id": "ac6753a6",
   "metadata": {},
   "outputs": [
    {
     "name": "stdout",
     "output_type": "stream",
     "text": [
      "              precision    recall  f1-score   support\n",
      "\n",
      "           0       0.65      0.66      0.65       132\n",
      "           1       0.66      0.65      0.65       133\n",
      "\n",
      "    accuracy                           0.65       265\n",
      "   macro avg       0.65      0.65      0.65       265\n",
      "weighted avg       0.65      0.65      0.65       265\n",
      "\n"
     ]
    }
   ],
   "source": [
    "best_lr2.fit(X_train2, y_train2)\n",
    "lr2_pred = best_lr2.predict(X_test2)\n",
    "print(classification_report(y_test2, lr2_pred))"
   ]
  },
  {
   "cell_type": "markdown",
   "id": "46c5317e",
   "metadata": {},
   "source": [
    "#### 2) DecisionTree \n",
    "#### 10-fold gridsearch cv to fine tune the hyperparameters"
   ]
  },
  {
   "cell_type": "code",
   "execution_count": null,
   "id": "5ab048c2",
   "metadata": {},
   "outputs": [
    {
     "name": "stdout",
     "output_type": "stream",
     "text": [
      "Fitting 10 folds for each of 27 candidates, totalling 270 fits\n",
      "best score: 0.5811231534450274\n",
      "best params: {'decisiontreeclassifier__criterion': 'gini', 'decisiontreeclassifier__max_depth': 30}\n"
     ]
    }
   ],
   "source": [
    "dt2 = make_pipeline( DecisionTreeClassifier(class_weight='balanced', random_state=42))\n",
    "\n",
    "dt_param_grid2={'decisiontreeclassifier__criterion': ['gini', 'entropy', 'log_loss'],\n",
    "               'decisiontreeclassifier__max_depth': [20, 30, 40, 50, 60, 70, 80, 90, 100]}\n",
    "\n",
    "dt_gs2 = GridSearchCV(dt2, dt_param_grid2, cv=10, scoring='f1_macro', n_jobs=-1, verbose=1, refit=True)\n",
    "dt_gs2.fit(X_train2, y_train2)\n",
    "\n",
    "print(f\"best score: {dt_gs2.best_score_}\")\n",
    "print(f\"best params: {dt_gs2.best_params_}\")"
   ]
  },
  {
   "cell_type": "markdown",
   "id": "e74ec0ba",
   "metadata": {},
   "source": [
    "#### 10-fold cv to make sure the model is not overfitting"
   ]
  },
  {
   "cell_type": "code",
   "execution_count": null,
   "id": "49dcc5b1",
   "metadata": {},
   "outputs": [
    {
     "name": "stdout",
     "output_type": "stream",
     "text": [
      "[0.54971857 0.5869191  0.57393484 0.51891026 0.53831169 0.62019231\n",
      " 0.50346495 0.58120482 0.67041078 0.60658635]\n",
      "0.5749653663943914\n",
      "0.047511527653532136\n"
     ]
    }
   ],
   "source": [
    "best_dt2 = dt_gs.best_estimator_\n",
    "\n",
    "cv_scores_dt2 = cross_val_score(best_dt2, X_train2, y_train2, cv=10, scoring='f1_macro')\n",
    "print(cv_scores_dt2)\n",
    "print(cv_scores_dt2.mean())\n",
    "print(cv_scores_dt2.std()) "
   ]
  },
  {
   "cell_type": "markdown",
   "id": "e416e346",
   "metadata": {},
   "source": [
    "#### hold-out method to evaluate the classification model"
   ]
  },
  {
   "cell_type": "code",
   "execution_count": null,
   "id": "90a3aa1b",
   "metadata": {},
   "outputs": [
    {
     "name": "stdout",
     "output_type": "stream",
     "text": [
      "              precision    recall  f1-score   support\n",
      "\n",
      "           0       0.58      0.61      0.59       132\n",
      "           1       0.59      0.56      0.58       133\n",
      "\n",
      "    accuracy                           0.58       265\n",
      "   macro avg       0.59      0.58      0.58       265\n",
      "weighted avg       0.59      0.58      0.58       265\n",
      "\n"
     ]
    }
   ],
   "source": [
    "best_dt2.fit(X_train2, y_train2)\n",
    "dt2_pred = best_dt2.predict(X_test2)\n",
    "print(classification_report(y_test2, dt2_pred))"
   ]
  },
  {
   "cell_type": "markdown",
   "id": "ea6b0e00",
   "metadata": {},
   "source": [
    "#### 3) RandomForest \n",
    "#### 10-fold gridsearch cv to fine tune the hyperparameters"
   ]
  },
  {
   "cell_type": "code",
   "execution_count": null,
   "id": "49f2335d",
   "metadata": {},
   "outputs": [
    {
     "name": "stdout",
     "output_type": "stream",
     "text": [
      "Fitting 10 folds for each of 27 candidates, totalling 270 fits\n",
      "best score: 0.640425419947015\n",
      "best params: {'randomforestclassifier__criterion': 'gini', 'randomforestclassifier__max_depth': 30, 'randomforestclassifier__n_estimators': 150}\n"
     ]
    }
   ],
   "source": [
    "rf2 = make_pipeline(RandomForestClassifier(class_weight='balanced', random_state=42))\n",
    "\n",
    "rf_param_grid2={'randomforestclassifier__n_estimators': [150, 300, 500],\n",
    "               'randomforestclassifier__criterion': ['gini', 'entropy', 'log_loss'],\n",
    "               'randomforestclassifier__max_depth': [30, 40, 50]}\n",
    "\n",
    "rf_gs2 = GridSearchCV(rf2, rf_param_grid2, cv=10, scoring='f1_macro', n_jobs=-1, verbose=1, refit=True)\n",
    "rf_gs2.fit(X_train2, y_train2)\n",
    "\n",
    "print(f\"best score: {rf_gs2.best_score_}\")\n",
    "print(f\"best params: {rf_gs2.best_params_}\")"
   ]
  },
  {
   "cell_type": "markdown",
   "id": "4f3b9a0b",
   "metadata": {},
   "source": [
    "#### 10-fold cv to make sure the model is not overfitting"
   ]
  },
  {
   "cell_type": "code",
   "execution_count": null,
   "id": "c551304c",
   "metadata": {},
   "outputs": [
    {
     "name": "stdout",
     "output_type": "stream",
     "text": [
      "[0.67479675 0.56243163 0.72222222 0.5523717  0.69615385 0.61724806\n",
      " 0.57985496 0.64414414 0.59487179 0.68334135]\n",
      "0.6327436454479295\n",
      "0.05688661032607914\n"
     ]
    }
   ],
   "source": [
    "best_rf2 = rf_gs.best_estimator_ \n",
    "\n",
    "cv_scores_rf2 = cross_val_score(best_rf2, X_train2, y_train2, cv=10, scoring='f1_macro')\n",
    "print(cv_scores_rf2)\n",
    "print(cv_scores_rf2.mean())\n",
    "print(cv_scores_rf2.std()) "
   ]
  },
  {
   "cell_type": "markdown",
   "id": "acf98d38",
   "metadata": {},
   "source": [
    "#### hold-out method to evaluate the classification model"
   ]
  },
  {
   "cell_type": "code",
   "execution_count": null,
   "id": "46fa1acf",
   "metadata": {},
   "outputs": [
    {
     "name": "stdout",
     "output_type": "stream",
     "text": [
      "              precision    recall  f1-score   support\n",
      "\n",
      "           0       0.65      0.70      0.67       132\n",
      "           1       0.68      0.63      0.65       133\n",
      "\n",
      "    accuracy                           0.66       265\n",
      "   macro avg       0.66      0.66      0.66       265\n",
      "weighted avg       0.66      0.66      0.66       265\n",
      "\n"
     ]
    }
   ],
   "source": [
    "best_rf2.fit(X_train2, y_train2)\n",
    "rf2_pred = best_rf2.predict(X_test2)\n",
    "print(classification_report(y_test2, rf2_pred))"
   ]
  },
  {
   "cell_type": "markdown",
   "id": "7a306158",
   "metadata": {},
   "source": [
    "#### 4) KNN \n",
    "#### 10-fold gridsearch cv to fine tune the hyperparameters"
   ]
  },
  {
   "cell_type": "code",
   "execution_count": null,
   "id": "e6232078",
   "metadata": {},
   "outputs": [
    {
     "name": "stdout",
     "output_type": "stream",
     "text": [
      "Fitting 10 folds for each of 44 candidates, totalling 440 fits\n",
      "best score: 0.6219286455694899\n",
      "best params: {'kneighborsclassifier__algorithm': 'auto', 'kneighborsclassifier__n_neighbors': 20}\n"
     ]
    }
   ],
   "source": [
    "knn2 = make_pipeline(KNeighborsClassifier())\n",
    "\n",
    "knn_param_grid2={'kneighborsclassifier__n_neighbors': [1, 2, 3, 4, 5, 6, 7, 8, 9, 10, 20],\n",
    "                'kneighborsclassifier__algorithm': ['auto', 'ball_tree', 'kd_tree', 'brute']}\n",
    "\n",
    "knn_gs2 = GridSearchCV(knn2, knn_param_grid2, cv=10, scoring='f1_macro', n_jobs=-1, verbose=1, refit=True)\n",
    "knn_gs2.fit(X_train2, y_train2)\n",
    "\n",
    "print(f\"best score: {knn_gs2.best_score_}\")\n",
    "print(f\"best params: {knn_gs2.best_params_}\")"
   ]
  },
  {
   "cell_type": "markdown",
   "id": "0b9fa99c",
   "metadata": {},
   "source": [
    "#### 10-fold cv to make sure the model is not overfitting"
   ]
  },
  {
   "cell_type": "code",
   "execution_count": null,
   "id": "0c5d31d6",
   "metadata": {},
   "outputs": [
    {
     "name": "stdout",
     "output_type": "stream",
     "text": [
      "[0.61243944 0.61243944 0.63698952 0.50947712 0.55667789 0.55696203\n",
      " 0.47256147 0.6817083  0.58120482 0.57241266]\n",
      "0.5792872696417639\n",
      "0.057742653275214294\n"
     ]
    }
   ],
   "source": [
    "best_knn2 = knn_gs.best_estimator_\n",
    "\n",
    "cv_scores_knn2 = cross_val_score(best_knn2, X_train2, y_train2, cv=10, scoring='f1_macro')\n",
    "print(cv_scores_knn2)\n",
    "print(cv_scores_knn2.mean())\n",
    "print(cv_scores_knn2.std()) "
   ]
  },
  {
   "cell_type": "markdown",
   "id": "9796e0a0",
   "metadata": {},
   "source": [
    "#### hold-out method to evaluate the classification model"
   ]
  },
  {
   "cell_type": "code",
   "execution_count": null,
   "id": "5027d101",
   "metadata": {},
   "outputs": [
    {
     "name": "stdout",
     "output_type": "stream",
     "text": [
      "              precision    recall  f1-score   support\n",
      "\n",
      "           0       0.59      0.62      0.60       132\n",
      "           1       0.60      0.56      0.58       133\n",
      "\n",
      "    accuracy                           0.59       265\n",
      "   macro avg       0.59      0.59      0.59       265\n",
      "weighted avg       0.59      0.59      0.59       265\n",
      "\n"
     ]
    }
   ],
   "source": [
    "best_knn2.fit(X_train2, y_train2)\n",
    "knn2_pred = best_knn2.predict(X_test2)\n",
    "print(classification_report(y_test2, knn2_pred))"
   ]
  },
  {
   "cell_type": "markdown",
   "id": "5ae74a3f",
   "metadata": {},
   "source": [
    "#### 5) SVM \n",
    "#### 10-fold gridsearch cv to fine tune the hyperparameters"
   ]
  },
  {
   "cell_type": "code",
   "execution_count": null,
   "id": "748e6521",
   "metadata": {},
   "outputs": [
    {
     "name": "stdout",
     "output_type": "stream",
     "text": [
      "Fitting 10 folds for each of 20 candidates, totalling 200 fits\n",
      "best score: 0.6427006213137127\n",
      "best params: {'svc__C': 0.01, 'svc__kernel': 'linear'}\n"
     ]
    }
   ],
   "source": [
    "svm2 = make_pipeline(SVC(class_weight='balanced', random_state=42))\n",
    "\n",
    "svm_param_grid2={'svc__kernel': ['linear', 'rbf', 'poly','sigmoid'],\n",
    "                'svc__C': [0.01, 0.1, 1.0, 10, 100]}\n",
    "\n",
    "svm_gs2 = GridSearchCV(svm2, svm_param_grid2, cv=10, scoring='f1_macro', n_jobs=-1, verbose=1, refit=True)\n",
    "svm_gs2.fit(X_train2, y_train2)\n",
    "\n",
    "print(f\"best score: {svm_gs2.best_score_}\")\n",
    "print(f\"best params: {svm_gs2.best_params_}\")"
   ]
  },
  {
   "cell_type": "markdown",
   "id": "25684b8a",
   "metadata": {},
   "source": [
    "#### 10-fold CV to make sure the model is not overfitting"
   ]
  },
  {
   "cell_type": "code",
   "execution_count": null,
   "id": "0d9776cd",
   "metadata": {},
   "outputs": [
    {
     "name": "stdout",
     "output_type": "stream",
     "text": [
      "[0.725      0.57393484 0.68349422 0.63196787 0.6573494  0.62910798\n",
      " 0.64414414 0.57985496 0.64414414 0.65800866]\n",
      "0.6427006213137127\n",
      "0.0422713359566266\n"
     ]
    }
   ],
   "source": [
    "best_svm2 = svm_gs2.best_estimator_\n",
    "\n",
    "cv_scores_svm2 = cross_val_score(best_svm2, X_train2, y_train2, cv=10, scoring='f1_macro')\n",
    "print(cv_scores_svm2)\n",
    "print(cv_scores_svm2.mean())\n",
    "print(cv_scores_svm2.std()) "
   ]
  },
  {
   "cell_type": "markdown",
   "id": "e26d36ed",
   "metadata": {},
   "source": [
    "#### hold-out method to evaluate the classification model"
   ]
  },
  {
   "cell_type": "code",
   "execution_count": null,
   "id": "282b58b6",
   "metadata": {},
   "outputs": [
    {
     "name": "stdout",
     "output_type": "stream",
     "text": [
      "              precision    recall  f1-score   support\n",
      "\n",
      "           0       0.63      0.73      0.68       132\n",
      "           1       0.68      0.57      0.62       133\n",
      "\n",
      "    accuracy                           0.65       265\n",
      "   macro avg       0.66      0.65      0.65       265\n",
      "weighted avg       0.66      0.65      0.65       265\n",
      "\n"
     ]
    }
   ],
   "source": [
    "best_svm2.fit(X_train2, y_train2)\n",
    "svm2_pred = best_svm2.predict(X_test2)\n",
    "print(classification_report(y_test2, svm2_pred))"
   ]
  },
  {
   "cell_type": "code",
   "execution_count": null,
   "id": "f9bb1a27",
   "metadata": {},
   "outputs": [
    {
     "name": "stdout",
     "output_type": "stream",
     "text": [
      "<bound method Pipeline.fit of Pipeline(steps=[('onehotencoder', OneHotEncoder()),\n",
      "                ('svc', SVC(class_weight='balanced', random_state=42))])>\n"
     ]
    }
   ],
   "source": [
    "print(best_svm2.fit)"
   ]
  },
  {
   "cell_type": "markdown",
   "id": "523ee285",
   "metadata": {},
   "source": [
    "#### feature importance\n"
   ]
  },
  {
   "cell_type": "code",
   "execution_count": null,
   "id": "ace33fbf",
   "metadata": {},
   "outputs": [],
   "source": [
    "\n",
    "results = permutation_importance(best_svm2, X_test2, y_test2, n_repeats=30, random_state=42)\n",
    "\n",
    "importance_df = pd.DataFrame({\n",
    "    'Feature': X_test2.columns,  \n",
    "    'Importance': results.importances_mean\n",
    "}).sort_values(by='Importance', ascending=False)\n",
    "\n",
    "\n",
    "print(importance_df)\n",
    "\n",
    "\n",
    "plt.figure(figsize=(10, 6))\n",
    "plt.barh(importance_df['Feature'], importance_df['Importance'], color='#ABC6E4')\n",
    "\n",
    "plt.xlabel('Feature Importance')\n",
    "plt.ylabel('Encoded Feature Names')\n",
    "plt.title('Feature Importance of SVM Model Predicting Extraversion')\n",
    "plt.gca().invert_yaxis()  \n",
    "plt.show()"
   ]
  },
  {
   "cell_type": "markdown",
   "id": "af224a5d",
   "metadata": {},
   "source": [
    "### 2.3 Openness"
   ]
  },
  {
   "cell_type": "markdown",
   "id": "6f70f99a",
   "metadata": {},
   "source": [
    "#### 2.3.1 Split data"
   ]
  },
  {
   "cell_type": "code",
   "execution_count": null,
   "id": "a42adb4f",
   "metadata": {},
   "outputs": [
    {
     "data": {
      "text/plain": [
       "((793, 22), (265, 22), (793,), (265,))"
      ]
     },
     "execution_count": 50,
     "metadata": {},
     "output_type": "execute_result"
    }
   ],
   "source": [
    "X3 = data[['FavouriteRole', 'LeastFavoriteRole', 'RoleMostPlay', 'RoleLeastPlay', 'BestRole','WorstRole',\n",
    "  'FavoritePosition', 'LeastFavoritePosition', 'BestPosition','WorstPosition','PositionMostPlay','PositionLeastPlay', \n",
    " 'Punish','Ignite', 'Smite', 'Ghost', 'Heal', 'Interfere', 'Stifle', 'Cleanse', 'Exhaust' ,'Flash']]\n",
    "\n",
    "y3 = data['Openness']\n",
    "\n",
    "X_train3, X_test3, y_train3, y_test3 = train_test_split(X3, y3, test_size=0.25, stratify=y3, random_state=42, shuffle=True,)\n",
    "X_train3.shape, X_test3.shape, y_train3.shape, y_test3.shape"
   ]
  },
  {
   "cell_type": "markdown",
   "id": "d76b3f21",
   "metadata": {},
   "source": [
    "#### 2.3.2 Baseline model"
   ]
  },
  {
   "cell_type": "code",
   "execution_count": null,
   "id": "3c5cb904",
   "metadata": {},
   "outputs": [
    {
     "name": "stdout",
     "output_type": "stream",
     "text": [
      "0.544766708701135\n",
      "0.35365853658536583\n"
     ]
    }
   ],
   "source": [
    "dummy3 = DummyClassifier(strategy=\"most_frequent\", random_state=42)\n",
    "dummy3.fit(X_train3, y_train3)\n",
    "accuracy3 = dummy3.score(X_train3, y_train3)\n",
    "print(accuracy3)\n",
    "\n",
    "y_pred3 = dummy3.predict(X_test3)\n",
    "f1_3 = f1_score(y_test3, y_pred3, average='macro')\n",
    "print(f1_3)"
   ]
  },
  {
   "cell_type": "markdown",
   "id": "24f8cdc2",
   "metadata": {},
   "source": [
    "#### 2.3.3 Model performance comparison (evaluation metric: macro F1 score)"
   ]
  },
  {
   "cell_type": "markdown",
   "id": "f27aedbd",
   "metadata": {},
   "source": [
    "#### 1) LogisticRegression \n",
    "#### 10-fold gridsearch cv to fine tune the hyperparameters"
   ]
  },
  {
   "cell_type": "code",
   "execution_count": null,
   "id": "d6a8a032",
   "metadata": {},
   "outputs": [
    {
     "name": "stdout",
     "output_type": "stream",
     "text": [
      "Fitting 10 folds for each of 20 candidates, totalling 200 fits\n",
      "best score: 0.6296204193486645\n",
      "best params: {'logisticregression__C': 0.01, 'logisticregression__solver': 'sag'}\n"
     ]
    }
   ],
   "source": [
    "lr3 = make_pipeline(LogisticRegression(class_weight='balanced', random_state=42))\n",
    "\n",
    "lr_param_grid3={'logisticregression__C': [0.01, 0.1, 1.0, 10, 100],\n",
    "               'logisticregression__solver': ['newton-cg', 'sag', 'saga','lbfgs']}\n",
    "\n",
    "lr_gs3 = GridSearchCV(lr3, lr_param_grid3, cv=10, scoring='f1_macro', n_jobs=-1, verbose=1, refit=True)\n",
    "lr_gs3.fit(X_train3, y_train3)\n",
    "\n",
    "print(f\"best score: {lr_gs3.best_score_}\")\n",
    "print(f\"best params: {lr_gs3.best_params_}\")"
   ]
  },
  {
   "cell_type": "markdown",
   "id": "4451bb0e",
   "metadata": {},
   "source": [
    "#### 10-fold cv to make sure the model is not overfitting"
   ]
  },
  {
   "cell_type": "code",
   "execution_count": null,
   "id": "73486007",
   "metadata": {},
   "outputs": [
    {
     "name": "stdout",
     "output_type": "stream",
     "text": [
      "[0.67418546 0.72344437 0.67479675 0.56899872 0.56899872 0.59487179\n",
      " 0.6835443  0.59435173 0.61970475 0.59330759]\n",
      "0.6296204193486645\n",
      "0.051919104843118125\n"
     ]
    }
   ],
   "source": [
    "best_lr3 = lr_gs.best_estimator_\n",
    "\n",
    "cv_scores_lr3 = cross_val_score(best_lr3, X_train3, y_train3, cv=10, scoring='f1_macro')\n",
    "print(cv_scores_lr3)\n",
    "print(cv_scores_lr3.mean())\n",
    "print(cv_scores_lr3.std())"
   ]
  },
  {
   "cell_type": "markdown",
   "id": "f2aedc03",
   "metadata": {},
   "source": [
    "#### hold-out method for final classification perfomrnace evaluation "
   ]
  },
  {
   "cell_type": "code",
   "execution_count": null,
   "id": "9fcbc18f",
   "metadata": {},
   "outputs": [
    {
     "name": "stdout",
     "output_type": "stream",
     "text": [
      "              precision    recall  f1-score   support\n",
      "\n",
      "        high       0.74      0.59      0.66       145\n",
      "         low       0.60      0.74      0.66       120\n",
      "\n",
      "    accuracy                           0.66       265\n",
      "   macro avg       0.67      0.67      0.66       265\n",
      "weighted avg       0.67      0.66      0.66       265\n",
      "\n"
     ]
    }
   ],
   "source": [
    "best_lr3.fit(X_train3, y_train3)\n",
    "lr_pred3 = best_lr3.predict(X_test3)\n",
    "print(classification_report(y_test3, lr_pred3))"
   ]
  },
  {
   "cell_type": "markdown",
   "id": "503b26d3",
   "metadata": {},
   "source": [
    "#### 2) DecisionTree \n",
    "#### 10-fold gridsearch cv to fine tune the hyperparameters"
   ]
  },
  {
   "cell_type": "code",
   "execution_count": null,
   "id": "3cdc3824",
   "metadata": {},
   "outputs": [
    {
     "name": "stdout",
     "output_type": "stream",
     "text": [
      "Fitting 10 folds for each of 27 candidates, totalling 270 fits\n",
      "best score: 0.5888052130012902\n",
      "best params: {'decisiontreeclassifier__criterion': 'gini', 'decisiontreeclassifier__max_depth': 20}\n"
     ]
    }
   ],
   "source": [
    "dt3 = make_pipeline( DecisionTreeClassifier(class_weight='balanced', random_state=42))\n",
    "\n",
    "dt_param_grid3={'decisiontreeclassifier__criterion': ['gini', 'entropy', 'log_loss'],\n",
    "               'decisiontreeclassifier__max_depth': [20, 30, 40, 50, 60, 70, 80, 90, 100]}\n",
    "\n",
    "dt_gs3 = GridSearchCV(dt3, dt_param_grid3, cv=10, scoring='f1_macro', n_jobs=-1, verbose=1, refit=True)\n",
    "dt_gs3.fit(X_train3, y_train3)\n",
    "\n",
    "print(f\"best score: {dt_gs3.best_score_}\")\n",
    "print(f\"best params: {dt_gs3.best_params_}\")"
   ]
  },
  {
   "cell_type": "markdown",
   "id": "23cac8c1",
   "metadata": {},
   "source": [
    "#### 10-fold cv to make sure the model is not overfitting"
   ]
  },
  {
   "cell_type": "code",
   "execution_count": null,
   "id": "b6a081f2",
   "metadata": {},
   "outputs": [
    {
     "name": "stdout",
     "output_type": "stream",
     "text": [
      "[0.63698952 0.56157318 0.70881469 0.71785714 0.62910798 0.53529412\n",
      " 0.52892828 0.52679294 0.5523717  0.49032258]\n",
      "0.5888052130012902\n",
      "0.0755412030278227\n"
     ]
    }
   ],
   "source": [
    "best_dt3 = dt_gs.best_estimator_\n",
    "\n",
    "cv_scores_dt3 = cross_val_score(best_dt3, X_train3, y_train3, cv=10, scoring='f1_macro')\n",
    "print(cv_scores_dt3)\n",
    "print(cv_scores_dt3.mean())\n",
    "print(cv_scores_dt3.std())"
   ]
  },
  {
   "cell_type": "markdown",
   "id": "e6ed7f47",
   "metadata": {},
   "source": [
    "#### hold-out method for final classification perfomrnace evaluation "
   ]
  },
  {
   "cell_type": "code",
   "execution_count": null,
   "id": "996b9316",
   "metadata": {},
   "outputs": [
    {
     "name": "stdout",
     "output_type": "stream",
     "text": [
      "              precision    recall  f1-score   support\n",
      "\n",
      "        high       0.66      0.59      0.62       145\n",
      "         low       0.56      0.63      0.59       120\n",
      "\n",
      "    accuracy                           0.61       265\n",
      "   macro avg       0.61      0.61      0.61       265\n",
      "weighted avg       0.61      0.61      0.61       265\n",
      "\n"
     ]
    }
   ],
   "source": [
    "best_dt3.fit(X_train3, y_train3)\n",
    "dt_pred3 = best_dt3.predict(X_test3)\n",
    "print(classification_report(y_test3, dt_pred3))"
   ]
  },
  {
   "cell_type": "markdown",
   "id": "0eab782d",
   "metadata": {},
   "source": [
    "#### 3) RandomForest \n",
    "#### 10-fold gridsearch cv to fine tune the hyperparameters"
   ]
  },
  {
   "cell_type": "code",
   "execution_count": null,
   "id": "37d46f1e",
   "metadata": {},
   "outputs": [
    {
     "name": "stdout",
     "output_type": "stream",
     "text": [
      "Fitting 10 folds for each of 27 candidates, totalling 270 fits\n",
      "best score: 0.6656009061964318\n",
      "best params: {'randomforestclassifier__criterion': 'entropy', 'randomforestclassifier__max_depth': 30, 'randomforestclassifier__n_estimators': 500}\n"
     ]
    }
   ],
   "source": [
    "rf3 = make_pipeline(RandomForestClassifier(class_weight='balanced', random_state=42))\n",
    "\n",
    "rf_param_grid3={'randomforestclassifier__n_estimators': [150, 300, 500],\n",
    "               'randomforestclassifier__criterion': ['gini', 'entropy', 'log_loss'],\n",
    "               'randomforestclassifier__max_depth': [30, 40, 50]}\n",
    "\n",
    "rf_gs3 = GridSearchCV(rf3, rf_param_grid3, cv=10, scoring='f1_macro', n_jobs=-1, verbose=1, refit=True)\n",
    "rf_gs3.fit(X_train3, y_train3)\n",
    "\n",
    "print(f\"best score: {rf_gs3.best_score_}\")\n",
    "print(f\"best params: {rf_gs3.best_params_}\")"
   ]
  },
  {
   "cell_type": "markdown",
   "id": "9674d120",
   "metadata": {},
   "source": [
    "#### 10-fold cv to make sure the model is not overfitting"
   ]
  },
  {
   "cell_type": "code",
   "execution_count": null,
   "id": "7e978aa4",
   "metadata": {},
   "outputs": [
    {
     "name": "stdout",
     "output_type": "stream",
     "text": [
      "[0.69052224 0.66881934 0.78173648 0.69640769 0.70584426 0.68774704\n",
      " 0.63570487 0.55667789 0.58610782 0.52662215]\n",
      "0.6536189789481268\n",
      "0.0735761597957294\n"
     ]
    }
   ],
   "source": [
    "best_rf3 = rf_gs.best_estimator_\n",
    "\n",
    "cv_scores_rf3 = cross_val_score(best_rf3, X_train3, y_train3, cv=10, scoring='f1_macro')\n",
    "print(cv_scores_rf3)\n",
    "print(cv_scores_rf3.mean())\n",
    "print(cv_scores_rf3.std())"
   ]
  },
  {
   "cell_type": "markdown",
   "id": "d32af752",
   "metadata": {},
   "source": [
    "#### hold-out method for final classification perfomrnace evaluation "
   ]
  },
  {
   "cell_type": "code",
   "execution_count": null,
   "id": "921a2a4d",
   "metadata": {},
   "outputs": [
    {
     "name": "stdout",
     "output_type": "stream",
     "text": [
      "              precision    recall  f1-score   support\n",
      "\n",
      "        high       0.70      0.69      0.69       145\n",
      "         low       0.63      0.64      0.64       120\n",
      "\n",
      "    accuracy                           0.67       265\n",
      "   macro avg       0.67      0.67      0.67       265\n",
      "weighted avg       0.67      0.67      0.67       265\n",
      "\n"
     ]
    }
   ],
   "source": [
    "best_rf3.fit(X_train3, y_train3)\n",
    "rf_pred3 = best_rf3.predict(X_test3)\n",
    "print(classification_report(y_test3, rf_pred3))"
   ]
  },
  {
   "cell_type": "markdown",
   "id": "c002de3e",
   "metadata": {},
   "source": [
    "#### 4) KNN \n",
    "#### 10-fold gridsearch cv to fine tune the hyperparameters"
   ]
  },
  {
   "cell_type": "code",
   "execution_count": null,
   "id": "9984bd59",
   "metadata": {},
   "outputs": [
    {
     "name": "stdout",
     "output_type": "stream",
     "text": [
      "Fitting 10 folds for each of 44 candidates, totalling 440 fits\n",
      "best score: 0.6389878421816557\n",
      "best params: {'kneighborsclassifier__algorithm': 'auto', 'kneighborsclassifier__n_neighbors': 10}\n"
     ]
    }
   ],
   "source": [
    "knn3 = make_pipeline( KNeighborsClassifier())\n",
    "\n",
    "knn_param_grid3={'kneighborsclassifier__n_neighbors': [1, 2, 3, 4, 5, 6, 7, 8, 9, 10, 20],\n",
    "                'kneighborsclassifier__algorithm': ['auto', 'ball_tree', 'kd_tree', 'brute']}\n",
    "\n",
    "knn_gs3 = GridSearchCV(knn3, knn_param_grid3, cv=10, scoring='f1_macro', n_jobs=-1, verbose=1, refit=True)\n",
    "knn_gs3.fit(X_train3, y_train3)\n",
    "\n",
    "print(f\"best score: {knn_gs3.best_score_}\")\n",
    "print(f\"best params: {knn_gs3.best_params_}\")"
   ]
  },
  {
   "cell_type": "markdown",
   "id": "d7b21f2b",
   "metadata": {},
   "source": [
    "#### 10-fold cv to make sure the model is not overfitting"
   ]
  },
  {
   "cell_type": "code",
   "execution_count": null,
   "id": "5dd42bd8",
   "metadata": {},
   "outputs": [
    {
     "name": "stdout",
     "output_type": "stream",
     "text": [
      "[0.70695971 0.60753284 0.74210187 0.66655844 0.63856209 0.58961039\n",
      " 0.58961039 0.50601251 0.60531829 0.57547631]\n",
      "0.6227742830981096\n",
      "0.0648842647102335\n"
     ]
    }
   ],
   "source": [
    "best_knn3 = knn_gs.best_estimator_\n",
    "\n",
    "cv_scores_knn3 = cross_val_score(best_knn3, X_train3, y_train3, cv=10, scoring='f1_macro')\n",
    "print(cv_scores_knn3)\n",
    "print(cv_scores_knn3.mean())\n",
    "print(cv_scores_knn3.std())"
   ]
  },
  {
   "cell_type": "markdown",
   "id": "380d72cf",
   "metadata": {},
   "source": [
    "#### hold-out method for final classification perfomrnace evaluation "
   ]
  },
  {
   "cell_type": "code",
   "execution_count": null,
   "id": "0a5fe546",
   "metadata": {},
   "outputs": [
    {
     "name": "stdout",
     "output_type": "stream",
     "text": [
      "              precision    recall  f1-score   support\n",
      "\n",
      "        high       0.64      0.67      0.65       145\n",
      "         low       0.58      0.54      0.56       120\n",
      "\n",
      "    accuracy                           0.61       265\n",
      "   macro avg       0.61      0.61      0.61       265\n",
      "weighted avg       0.61      0.61      0.61       265\n",
      "\n"
     ]
    }
   ],
   "source": [
    "best_knn3.fit(X_train3, y_train3)\n",
    "knn_pred3 = best_knn3.predict(X_test3)\n",
    "print(classification_report(y_test3, knn_pred3))"
   ]
  },
  {
   "cell_type": "markdown",
   "id": "3ed324e1",
   "metadata": {},
   "source": [
    "#### 5) SVM \n",
    "#### 10-fold gridsearch cv to fine tune the hyperparameters"
   ]
  },
  {
   "cell_type": "code",
   "execution_count": null,
   "id": "9f14072c",
   "metadata": {},
   "outputs": [
    {
     "name": "stdout",
     "output_type": "stream",
     "text": [
      "Fitting 10 folds for each of 20 candidates, totalling 200 fits\n",
      "best score: 0.6532615659147388\n",
      "best params: {'svc__C': 1.0, 'svc__kernel': 'rbf'}\n"
     ]
    }
   ],
   "source": [
    "svm3 = make_pipeline(SVC(class_weight='balanced', random_state=42))\n",
    "\n",
    "svm_param_grid3={'svc__kernel': ['linear', 'rbf', 'poly','sigmoid'],\n",
    "                'svc__C': [0.01, 0.1, 1.0, 10, 100]}\n",
    "\n",
    "svm_gs3 = GridSearchCV(svm3, svm_param_grid3, cv=10, scoring='f1_macro', n_jobs=-1, verbose=1, refit=True)\n",
    "svm_gs3.fit(X_train3, y_train3)\n",
    "\n",
    "print(f\"best score: {svm_gs3.best_score_}\")\n",
    "print(f\"best params: {svm_gs3.best_params_}\")"
   ]
  },
  {
   "cell_type": "markdown",
   "id": "5c1bbdff",
   "metadata": {},
   "source": [
    "#### 10-fold cv to make sure the model is not overfitting"
   ]
  },
  {
   "cell_type": "code",
   "execution_count": null,
   "id": "e2ecd22d",
   "metadata": {},
   "outputs": [
    {
     "name": "stdout",
     "output_type": "stream",
     "text": [
      "[0.74424552 0.68147794 0.77142857 0.58366271 0.55439162 0.64090909\n",
      " 0.65800866 0.56788932 0.65015581 0.54649828]\n",
      "0.6398667530815361\n",
      "0.07398265116908548\n"
     ]
    }
   ],
   "source": [
    "best_svm3 = svm_gs.best_estimator_\n",
    "\n",
    "cv_scores_svm3 = cross_val_score(best_svm3, X_train3, y_train3, cv=10, scoring='f1_macro')\n",
    "print(cv_scores_svm3)\n",
    "print(cv_scores_svm3.mean())\n",
    "print(cv_scores_svm3.std())"
   ]
  },
  {
   "cell_type": "markdown",
   "id": "3671a507",
   "metadata": {},
   "source": [
    "#### hold-out method for final classification perfomrnace evaluation "
   ]
  },
  {
   "cell_type": "code",
   "execution_count": null,
   "id": "5d37d0c5",
   "metadata": {},
   "outputs": [
    {
     "name": "stdout",
     "output_type": "stream",
     "text": [
      "              precision    recall  f1-score   support\n",
      "\n",
      "        high       0.72      0.70      0.71       145\n",
      "         low       0.65      0.67      0.66       120\n",
      "\n",
      "    accuracy                           0.69       265\n",
      "   macro avg       0.68      0.69      0.68       265\n",
      "weighted avg       0.69      0.69      0.69       265\n",
      "\n"
     ]
    }
   ],
   "source": [
    "best_svm3.fit(X_train3, y_train3)\n",
    "svm_pred3 = best_svm3.predict(X_test3)\n",
    "print(classification_report(y_test3, svm_pred3))"
   ]
  },
  {
   "cell_type": "markdown",
   "id": "dfa9f1f9",
   "metadata": {},
   "source": [
    "#### feature importance"
   ]
  },
  {
   "cell_type": "code",
   "execution_count": null,
   "id": "7a30648e",
   "metadata": {},
   "outputs": [
    {
     "name": "stdout",
     "output_type": "stream",
     "text": [
      "                  Feature  Importance\n",
      "19                Cleanse    0.034591\n",
      "21                  Flash    0.010943\n",
      "13                 Ignite    0.009434\n",
      "9           WorstPosition    0.008050\n",
      "3           RoleLeastPlay    0.006164\n",
      "16                   Heal    0.005535\n",
      "4                BestRole    0.002642\n",
      "0           FavouriteRole    0.001761\n",
      "8            BestPosition    0.000629\n",
      "1       LeastFavoriteRole   -0.000377\n",
      "7   LeastFavoritePosition   -0.001132\n",
      "5               WorstRole   -0.001258\n",
      "17              Interfere   -0.002642\n",
      "10       PositionMostPlay   -0.003648\n",
      "14                  Smite   -0.005660\n",
      "11      PositionLeastPlay   -0.006164\n",
      "12                 Punish   -0.006415\n",
      "2            RoleMostPlay   -0.006667\n",
      "20                Exhaust   -0.007044\n",
      "6        FavoritePosition   -0.009434\n",
      "18                 Stifle   -0.013836\n",
      "15                  Ghost   -0.014717\n"
     ]
    },
    {
     "data": {
      "image/png": "[encoded data removed]",
      "text/plain": [
       "<Figure size 1000x600 with 1 Axes>"
      ]
     },
     "metadata": {},
     "output_type": "display_data"
    }
   ],
   "source": [
    "\n",
    "results = permutation_importance(best_svm3, X_test3, y_test3, n_repeats=30, random_state=42)\n",
    "\n",
    "importance_df = pd.DataFrame({\n",
    "    'Feature': X_test3.columns,  \n",
    "    'Importance': results.importances_mean\n",
    "}).sort_values(by='Importance', ascending=False)\n",
    "\n",
    "\n",
    "print(importance_df)\n",
    "\n",
    "\n",
    "plt.figure(figsize=(10, 6))\n",
    "plt.barh(importance_df['Feature'], importance_df['Importance'], color='#ABC6E4')\n",
    "\n",
    "plt.xlabel('Feature Importance')\n",
    "plt.ylabel('Encoded Feature Names')\n",
    "plt.title('Feature Importance of SVM Model Predicting Openness')\n",
    "plt.gca().invert_yaxis()  \n",
    "plt.show()"
   ]
  },
  {
   "cell_type": "markdown",
   "id": "89e55587",
   "metadata": {},
   "source": [
    "### 2.4 Agreeableness"
   ]
  },
  {
   "cell_type": "markdown",
   "id": "0854ed1f",
   "metadata": {},
   "source": [
    "#### 2.4.1 Split data"
   ]
  },
  {
   "cell_type": "code",
   "execution_count": null,
   "id": "389f217f",
   "metadata": {},
   "outputs": [
    {
     "data": {
      "text/plain": [
       "((793, 22), (265, 22), (793,), (265,))"
      ]
     },
     "execution_count": 68,
     "metadata": {},
     "output_type": "execute_result"
    }
   ],
   "source": [
    "X4 = data[['FavouriteRole', 'LeastFavoriteRole', 'RoleMostPlay', 'RoleLeastPlay', 'BestRole','WorstRole',\n",
    "  'FavoritePosition', 'LeastFavoritePosition', 'BestPosition','WorstPosition','PositionMostPlay','PositionLeastPlay', \n",
    "'Punish','Ignite', 'Smite', 'Ghost', 'Heal', 'Interfere', 'Stifle', 'Cleanse', 'Exhaust' ,'Flash']]\n",
    "y4 = data['Agreeableness']\n",
    "\n",
    "X_train4, X_test4, y_train4, y_test4 = train_test_split(X4, y4, test_size=0.25, stratify=y4, random_state=42, shuffle=True,)\n",
    "X_train4.shape, X_test4.shape, y_train4.shape, y_test4.shape"
   ]
  },
  {
   "cell_type": "markdown",
   "id": "72494efa",
   "metadata": {},
   "source": [
    "#### 2.4.2 Baseline model"
   ]
  },
  {
   "cell_type": "code",
   "execution_count": null,
   "id": "f2afa3fc",
   "metadata": {},
   "outputs": [
    {
     "name": "stdout",
     "output_type": "stream",
     "text": [
      "0.5523329129886507\n",
      "0.35523114355231145\n"
     ]
    }
   ],
   "source": [
    "dummy4 = DummyClassifier(strategy=\"most_frequent\", random_state=42)\n",
    "dummy4.fit(X_train4, y_train4)\n",
    "accuracy4 = dummy4.score(X_train4, y_train4)\n",
    "print(accuracy4)\n",
    "\n",
    "y_pred4 = dummy4.predict(X_test4)\n",
    "f1_4 = f1_score(y_test4, y_pred4, average='macro')\n",
    "print(f1_4)"
   ]
  },
  {
   "cell_type": "markdown",
   "id": "c2b6d905",
   "metadata": {},
   "source": [
    "#### 2.4.3 Model performance comparison (evaluation metric: macro F1 score)"
   ]
  },
  {
   "cell_type": "markdown",
   "id": "dca0e358",
   "metadata": {},
   "source": [
    "#### 1) LogisticRegression \n",
    "#### 10-fold gridsearch cv to fine tune the hyperparameters"
   ]
  },
  {
   "cell_type": "code",
   "execution_count": null,
   "id": "200a7ec9",
   "metadata": {},
   "outputs": [
    {
     "name": "stdout",
     "output_type": "stream",
     "text": [
      "Fitting 10 folds for each of 20 candidates, totalling 200 fits\n",
      "best score: 0.585553701103714\n",
      "best params: {'logisticregression__C': 100, 'logisticregression__solver': 'sag'}\n"
     ]
    }
   ],
   "source": [
    "lr4 = make_pipeline(LogisticRegression(class_weight='balanced', random_state=42))\n",
    "\n",
    "lr_param_grid4={'logisticregression__C': [0.01, 0.1, 1.0, 10, 100],\n",
    "               'logisticregression__solver': ['newton-cg', 'sag', 'saga','lbfgs']}\n",
    "\n",
    "lr_gs4 = GridSearchCV(lr4, lr_param_grid4, cv=10, scoring='f1_macro', n_jobs=-1, verbose=1, refit=True)\n",
    "lr_gs4.fit(X_train4, y_train4)\n",
    "\n",
    "print(f\"best score: {lr_gs4.best_score_}\")\n",
    "print(f\"best params: {lr_gs4.best_params_}\")"
   ]
  },
  {
   "cell_type": "markdown",
   "id": "0a49881e",
   "metadata": {},
   "source": [
    "#### 10-fold cv to make sure the model is not overfitting"
   ]
  },
  {
   "cell_type": "code",
   "execution_count": null,
   "id": "0dd04ee6",
   "metadata": {},
   "outputs": [
    {
     "name": "stdout",
     "output_type": "stream",
     "text": [
      "[0.53684869 0.58588235 0.55689191 0.64551282 0.58201058 0.5436457\n",
      " 0.60734327 0.58120482 0.46136364 0.5523717 ]\n",
      "0.5653075492955979\n",
      "0.04634281287682346\n"
     ]
    }
   ],
   "source": [
    "best_lr4 = lr_gs.best_estimator_\n",
    "\n",
    "cv_scores_lr4 = cross_val_score(best_lr4, X_train4, y_train4, cv=10, scoring='f1_macro')\n",
    "print(cv_scores_lr4)\n",
    "print(cv_scores_lr4.mean())\n",
    "print(cv_scores_lr4.std())"
   ]
  },
  {
   "cell_type": "markdown",
   "id": "5a7c346e",
   "metadata": {},
   "source": [
    "#### hold-out method to evaluate the classification performance"
   ]
  },
  {
   "cell_type": "code",
   "execution_count": null,
   "id": "35540103",
   "metadata": {},
   "outputs": [
    {
     "name": "stdout",
     "output_type": "stream",
     "text": [
      "              precision    recall  f1-score   support\n",
      "\n",
      "        high       0.62      0.56      0.59       146\n",
      "         low       0.52      0.58      0.55       119\n",
      "\n",
      "    accuracy                           0.57       265\n",
      "   macro avg       0.57      0.57      0.57       265\n",
      "weighted avg       0.58      0.57      0.57       265\n",
      "\n"
     ]
    }
   ],
   "source": [
    "best_lr4.fit(X_train4,y_train4)\n",
    "lr_pred4 = best_lr4.predict(X_test4)\n",
    "print(classification_report(y_test4, lr_pred4))"
   ]
  },
  {
   "cell_type": "markdown",
   "id": "78063b9a",
   "metadata": {},
   "source": [
    "#### 2) DecisionTree \n",
    "#### 10-fold gridsearch cv to fine tune the hyperparameters"
   ]
  },
  {
   "cell_type": "code",
   "execution_count": null,
   "id": "22a683c6",
   "metadata": {},
   "outputs": [
    {
     "name": "stdout",
     "output_type": "stream",
     "text": [
      "Fitting 10 folds for each of 27 candidates, totalling 270 fits\n",
      "best score: 0.5778293097886525\n",
      "best params: {'decisiontreeclassifier__criterion': 'entropy', 'decisiontreeclassifier__max_depth': 20}\n"
     ]
    }
   ],
   "source": [
    "dt4 = make_pipeline(DecisionTreeClassifier(class_weight='balanced', random_state=42))\n",
    "\n",
    "dt_param_grid4={'decisiontreeclassifier__criterion': ['gini', 'entropy', 'log_loss'],\n",
    "               'decisiontreeclassifier__max_depth': [20, 30, 40, 50, 60, 70, 80, 90, 100]}\n",
    "\n",
    "dt_gs4 = GridSearchCV(dt4, dt_param_grid4, cv=10, scoring='f1_macro', n_jobs=-1, verbose=1, refit=True)\n",
    "dt_gs4.fit(X_train4, y_train4)\n",
    "\n",
    "print(f\"best score: {dt_gs4.best_score_}\")\n",
    "print(f\"best params: {dt_gs4.best_params_}\")"
   ]
  },
  {
   "cell_type": "markdown",
   "id": "e8f2bcb5",
   "metadata": {},
   "source": [
    "#### 10-fold cv to make sure the model is not overfitting"
   ]
  },
  {
   "cell_type": "code",
   "execution_count": null,
   "id": "c92bfdb0",
   "metadata": {},
   "outputs": [
    {
     "name": "stdout",
     "output_type": "stream",
     "text": [
      "[0.51058824 0.55689191 0.52231301 0.62424143 0.59435173 0.62693372\n",
      " 0.57985496 0.64090909 0.52726064 0.55764163]\n",
      "0.5740986365224849\n",
      "0.04437209780556292\n"
     ]
    }
   ],
   "source": [
    "best_dt4 = dt_gs.best_estimator_\n",
    "\n",
    "cv_scores_dt4 = cross_val_score(best_dt4, X_train4, y_train4, cv=10, scoring='f1_macro')\n",
    "print(cv_scores_dt4)\n",
    "print(cv_scores_dt4.mean())\n",
    "print(cv_scores_dt4.std())"
   ]
  },
  {
   "cell_type": "markdown",
   "id": "ded0c0f0",
   "metadata": {},
   "source": [
    "#### hold-out method to evaluate the classification performance"
   ]
  },
  {
   "cell_type": "code",
   "execution_count": null,
   "id": "4fbfddb8",
   "metadata": {},
   "outputs": [
    {
     "name": "stdout",
     "output_type": "stream",
     "text": [
      "              precision    recall  f1-score   support\n",
      "\n",
      "        high       0.60      0.61      0.61       146\n",
      "         low       0.51      0.50      0.51       119\n",
      "\n",
      "    accuracy                           0.56       265\n",
      "   macro avg       0.56      0.56      0.56       265\n",
      "weighted avg       0.56      0.56      0.56       265\n",
      "\n"
     ]
    }
   ],
   "source": [
    "best_dt4.fit(X_train4,y_train4)\n",
    "dt_pred4 = best_dt4.predict(X_test4)\n",
    "print(classification_report(y_test4, dt_pred4))"
   ]
  },
  {
   "cell_type": "markdown",
   "id": "68338f71",
   "metadata": {},
   "source": [
    "#### 3) RandomForest \n",
    "#### 10-fold gridsearch cv to fine tune the hyperparameters"
   ]
  },
  {
   "cell_type": "code",
   "execution_count": null,
   "id": "cceda78c",
   "metadata": {},
   "outputs": [
    {
     "name": "stdout",
     "output_type": "stream",
     "text": [
      "Fitting 10 folds for each of 27 candidates, totalling 270 fits\n",
      "best score: 0.5604423597654546\n",
      "best params: {'randomforestclassifier__criterion': 'entropy', 'randomforestclassifier__max_depth': 30, 'randomforestclassifier__n_estimators': 150}\n"
     ]
    }
   ],
   "source": [
    "rf4 = make_pipeline(RandomForestClassifier(class_weight='balanced', random_state=42))\n",
    "\n",
    "rf_param_grid4={'randomforestclassifier__n_estimators': [150, 300, 500],\n",
    "               'randomforestclassifier__criterion': ['gini', 'entropy', 'log_loss'],\n",
    "               'randomforestclassifier__max_depth': [30, 40, 50]}\n",
    "\n",
    "rf_gs4 = GridSearchCV(rf4, rf_param_grid4, cv=10, scoring='f1_macro', n_jobs=-1, verbose=1, refit=True)\n",
    "rf_gs4.fit(X_train4, y_train4)\n",
    "\n",
    "print(f\"best score: {rf_gs4.best_score_}\")\n",
    "print(f\"best params: {rf_gs4.best_params_}\")"
   ]
  },
  {
   "cell_type": "markdown",
   "id": "b9d7ea91",
   "metadata": {},
   "source": [
    "#### 10-fold cv to make sure the model is not overfitting"
   ]
  },
  {
   "cell_type": "code",
   "execution_count": null,
   "id": "d49679f2",
   "metadata": {},
   "outputs": [
    {
     "name": "stdout",
     "output_type": "stream",
     "text": [
      "[0.45841393 0.61636829 0.62666667 0.63231383 0.52679294 0.5594051\n",
      " 0.58961039 0.56441103 0.44677871 0.58366271]\n",
      "0.5604423597654546\n",
      "0.062086367930318465\n"
     ]
    }
   ],
   "source": [
    "best_rf4 = rf_gs.best_estimator_\n",
    "\n",
    "cv_scores_rf4 = cross_val_score(best_rf4, X_train4, y_train4, cv=10, scoring='f1_macro')\n",
    "print(cv_scores_rf4)\n",
    "print(cv_scores_rf4.mean())\n",
    "print(cv_scores_rf4.std())"
   ]
  },
  {
   "cell_type": "markdown",
   "id": "76ec01ba",
   "metadata": {},
   "source": [
    "#### hold-out method to evaluate the classification performance"
   ]
  },
  {
   "cell_type": "code",
   "execution_count": null,
   "id": "aee75e4a",
   "metadata": {},
   "outputs": [
    {
     "name": "stdout",
     "output_type": "stream",
     "text": [
      "              precision    recall  f1-score   support\n",
      "\n",
      "        high       0.63      0.75      0.69       146\n",
      "         low       0.60      0.45      0.52       119\n",
      "\n",
      "    accuracy                           0.62       265\n",
      "   macro avg       0.61      0.60      0.60       265\n",
      "weighted avg       0.62      0.62      0.61       265\n",
      "\n"
     ]
    }
   ],
   "source": [
    "best_rf4.fit(X_train4,y_train4)\n",
    "rf_pred4 = best_rf4.predict(X_test4)\n",
    "print(classification_report(y_test4, rf_pred4))"
   ]
  },
  {
   "cell_type": "markdown",
   "id": "162d51cf",
   "metadata": {},
   "source": [
    "#### Feature importance"
   ]
  },
  {
   "cell_type": "code",
   "execution_count": null,
   "id": "4a7651dd",
   "metadata": {},
   "outputs": [
    {
     "name": "stdout",
     "output_type": "stream",
     "text": [
      "Pipeline(steps=[('onehotencoder', OneHotEncoder()),\n",
      "                ('randomforestclassifier',\n",
      "                 RandomForestClassifier(class_weight='balanced',\n",
      "                                        criterion='entropy', max_depth=30,\n",
      "                                        n_estimators=150, random_state=42))])\n"
     ]
    }
   ],
   "source": [
    "print(best_rf4)"
   ]
  },
  {
   "cell_type": "code",
   "execution_count": null,
   "id": "da54e9e8",
   "metadata": {},
   "outputs": [
    {
     "ename": "ValueError",
     "evalue": "All arrays must be of the same length",
     "output_type": "error",
     "traceback": [
      "\u001b[1;31m---------------------------------------------------------------------------\u001b[0m",
      "\u001b[1;31mValueError\u001b[0m                                Traceback (most recent call last)",
      "Cell \u001b[1;32mIn[228], line 4\u001b[0m\n\u001b[0;32m      1\u001b[0m ture_importance \u001b[38;5;241m=\u001b[39m best_rf4\u001b[38;5;241m.\u001b[39mnamed_steps[\u001b[38;5;124m'\u001b[39m\u001b[38;5;124mrandomforestclassifier\u001b[39m\u001b[38;5;124m'\u001b[39m]\u001b[38;5;241m.\u001b[39mfeature_importances_\n\u001b[1;32m----> 4\u001b[0m feature_importance_df \u001b[38;5;241m=\u001b[39m \u001b[43mpd\u001b[49m\u001b[38;5;241;43m.\u001b[39;49m\u001b[43mDataFrame\u001b[49m\u001b[43m(\u001b[49m\u001b[43m{\u001b[49m\n\u001b[0;32m      5\u001b[0m \u001b[43m    \u001b[49m\u001b[38;5;124;43m'\u001b[39;49m\u001b[38;5;124;43mFeature\u001b[39;49m\u001b[38;5;124;43m'\u001b[39;49m\u001b[43m:\u001b[49m\u001b[43m \u001b[49m\u001b[43mX_train\u001b[49m\u001b[38;5;241;43m.\u001b[39;49m\u001b[43mcolumns\u001b[49m\u001b[43m,\u001b[49m\n\u001b[0;32m      6\u001b[0m \u001b[43m    \u001b[49m\u001b[38;5;124;43m'\u001b[39;49m\u001b[38;5;124;43mImportance\u001b[39;49m\u001b[38;5;124;43m'\u001b[39;49m\u001b[43m:\u001b[49m\u001b[43m \u001b[49m\u001b[43mfeature_importance\u001b[49m\n\u001b[0;32m      7\u001b[0m \u001b[43m}\u001b[49m\u001b[43m)\u001b[49m\n\u001b[0;32m      9\u001b[0m feature_importance_df \u001b[38;5;241m=\u001b[39m feature_importance_df\u001b[38;5;241m.\u001b[39msort_values(by\u001b[38;5;241m=\u001b[39m\u001b[38;5;124m'\u001b[39m\u001b[38;5;124mImportance\u001b[39m\u001b[38;5;124m'\u001b[39m, ascending\u001b[38;5;241m=\u001b[39m\u001b[38;5;28;01mTrue\u001b[39;00m)\n\u001b[0;32m     11\u001b[0m plt\u001b[38;5;241m.\u001b[39mfigure(figsize\u001b[38;5;241m=\u001b[39m(\u001b[38;5;241m10\u001b[39m,\u001b[38;5;241m18\u001b[39m))\n",
      "File \u001b[1;32m~\\AppData\\Roaming\\Python\\Python310\\site-packages\\pandas\\core\\frame.py:733\u001b[0m, in \u001b[0;36mDataFrame.__init__\u001b[1;34m(self, data, index, columns, dtype, copy)\u001b[0m\n\u001b[0;32m    727\u001b[0m     mgr \u001b[38;5;241m=\u001b[39m \u001b[38;5;28mself\u001b[39m\u001b[38;5;241m.\u001b[39m_init_mgr(\n\u001b[0;32m    728\u001b[0m         data, axes\u001b[38;5;241m=\u001b[39m{\u001b[38;5;124m\"\u001b[39m\u001b[38;5;124mindex\u001b[39m\u001b[38;5;124m\"\u001b[39m: index, \u001b[38;5;124m\"\u001b[39m\u001b[38;5;124mcolumns\u001b[39m\u001b[38;5;124m\"\u001b[39m: columns}, dtype\u001b[38;5;241m=\u001b[39mdtype, copy\u001b[38;5;241m=\u001b[39mcopy\n\u001b[0;32m    729\u001b[0m     )\n\u001b[0;32m    731\u001b[0m \u001b[38;5;28;01melif\u001b[39;00m \u001b[38;5;28misinstance\u001b[39m(data, \u001b[38;5;28mdict\u001b[39m):\n\u001b[0;32m    732\u001b[0m     \u001b[38;5;66;03m# GH#38939 de facto copy defaults to False only in non-dict cases\u001b[39;00m\n\u001b[1;32m--> 733\u001b[0m     mgr \u001b[38;5;241m=\u001b[39m \u001b[43mdict_to_mgr\u001b[49m\u001b[43m(\u001b[49m\u001b[43mdata\u001b[49m\u001b[43m,\u001b[49m\u001b[43m \u001b[49m\u001b[43mindex\u001b[49m\u001b[43m,\u001b[49m\u001b[43m \u001b[49m\u001b[43mcolumns\u001b[49m\u001b[43m,\u001b[49m\u001b[43m \u001b[49m\u001b[43mdtype\u001b[49m\u001b[38;5;241;43m=\u001b[39;49m\u001b[43mdtype\u001b[49m\u001b[43m,\u001b[49m\u001b[43m \u001b[49m\u001b[43mcopy\u001b[49m\u001b[38;5;241;43m=\u001b[39;49m\u001b[43mcopy\u001b[49m\u001b[43m,\u001b[49m\u001b[43m \u001b[49m\u001b[43mtyp\u001b[49m\u001b[38;5;241;43m=\u001b[39;49m\u001b[43mmanager\u001b[49m\u001b[43m)\u001b[49m\n\u001b[0;32m    734\u001b[0m \u001b[38;5;28;01melif\u001b[39;00m \u001b[38;5;28misinstance\u001b[39m(data, ma\u001b[38;5;241m.\u001b[39mMaskedArray):\n\u001b[0;32m    735\u001b[0m     \u001b[38;5;28;01mfrom\u001b[39;00m \u001b[38;5;21;01mnumpy\u001b[39;00m\u001b[38;5;21;01m.\u001b[39;00m\u001b[38;5;21;01mma\u001b[39;00m \u001b[38;5;28;01mimport\u001b[39;00m mrecords\n",
      "File \u001b[1;32m~\\AppData\\Roaming\\Python\\Python310\\site-packages\\pandas\\core\\internals\\construction.py:503\u001b[0m, in \u001b[0;36mdict_to_mgr\u001b[1;34m(data, index, columns, dtype, typ, copy)\u001b[0m\n\u001b[0;32m    499\u001b[0m     \u001b[38;5;28;01melse\u001b[39;00m:\n\u001b[0;32m    500\u001b[0m         \u001b[38;5;66;03m# dtype check to exclude e.g. range objects, scalars\u001b[39;00m\n\u001b[0;32m    501\u001b[0m         arrays \u001b[38;5;241m=\u001b[39m [x\u001b[38;5;241m.\u001b[39mcopy() \u001b[38;5;28;01mif\u001b[39;00m \u001b[38;5;28mhasattr\u001b[39m(x, \u001b[38;5;124m\"\u001b[39m\u001b[38;5;124mdtype\u001b[39m\u001b[38;5;124m\"\u001b[39m) \u001b[38;5;28;01melse\u001b[39;00m x \u001b[38;5;28;01mfor\u001b[39;00m x \u001b[38;5;129;01min\u001b[39;00m arrays]\n\u001b[1;32m--> 503\u001b[0m \u001b[38;5;28;01mreturn\u001b[39;00m \u001b[43marrays_to_mgr\u001b[49m\u001b[43m(\u001b[49m\u001b[43marrays\u001b[49m\u001b[43m,\u001b[49m\u001b[43m \u001b[49m\u001b[43mcolumns\u001b[49m\u001b[43m,\u001b[49m\u001b[43m \u001b[49m\u001b[43mindex\u001b[49m\u001b[43m,\u001b[49m\u001b[43m \u001b[49m\u001b[43mdtype\u001b[49m\u001b[38;5;241;43m=\u001b[39;49m\u001b[43mdtype\u001b[49m\u001b[43m,\u001b[49m\u001b[43m \u001b[49m\u001b[43mtyp\u001b[49m\u001b[38;5;241;43m=\u001b[39;49m\u001b[43mtyp\u001b[49m\u001b[43m,\u001b[49m\u001b[43m \u001b[49m\u001b[43mconsolidate\u001b[49m\u001b[38;5;241;43m=\u001b[39;49m\u001b[43mcopy\u001b[49m\u001b[43m)\u001b[49m\n",
      "File \u001b[1;32m~\\AppData\\Roaming\\Python\\Python310\\site-packages\\pandas\\core\\internals\\construction.py:114\u001b[0m, in \u001b[0;36marrays_to_mgr\u001b[1;34m(arrays, columns, index, dtype, verify_integrity, typ, consolidate)\u001b[0m\n\u001b[0;32m    111\u001b[0m \u001b[38;5;28;01mif\u001b[39;00m verify_integrity:\n\u001b[0;32m    112\u001b[0m     \u001b[38;5;66;03m# figure out the index, if necessary\u001b[39;00m\n\u001b[0;32m    113\u001b[0m     \u001b[38;5;28;01mif\u001b[39;00m index \u001b[38;5;129;01mis\u001b[39;00m \u001b[38;5;28;01mNone\u001b[39;00m:\n\u001b[1;32m--> 114\u001b[0m         index \u001b[38;5;241m=\u001b[39m \u001b[43m_extract_index\u001b[49m\u001b[43m(\u001b[49m\u001b[43marrays\u001b[49m\u001b[43m)\u001b[49m\n\u001b[0;32m    115\u001b[0m     \u001b[38;5;28;01melse\u001b[39;00m:\n\u001b[0;32m    116\u001b[0m         index \u001b[38;5;241m=\u001b[39m ensure_index(index)\n",
      "File \u001b[1;32m~\\AppData\\Roaming\\Python\\Python310\\site-packages\\pandas\\core\\internals\\construction.py:677\u001b[0m, in \u001b[0;36m_extract_index\u001b[1;34m(data)\u001b[0m\n\u001b[0;32m    675\u001b[0m lengths \u001b[38;5;241m=\u001b[39m \u001b[38;5;28mlist\u001b[39m(\u001b[38;5;28mset\u001b[39m(raw_lengths))\n\u001b[0;32m    676\u001b[0m \u001b[38;5;28;01mif\u001b[39;00m \u001b[38;5;28mlen\u001b[39m(lengths) \u001b[38;5;241m>\u001b[39m \u001b[38;5;241m1\u001b[39m:\n\u001b[1;32m--> 677\u001b[0m     \u001b[38;5;28;01mraise\u001b[39;00m \u001b[38;5;167;01mValueError\u001b[39;00m(\u001b[38;5;124m\"\u001b[39m\u001b[38;5;124mAll arrays must be of the same length\u001b[39m\u001b[38;5;124m\"\u001b[39m)\n\u001b[0;32m    679\u001b[0m \u001b[38;5;28;01mif\u001b[39;00m have_dicts:\n\u001b[0;32m    680\u001b[0m     \u001b[38;5;28;01mraise\u001b[39;00m \u001b[38;5;167;01mValueError\u001b[39;00m(\n\u001b[0;32m    681\u001b[0m         \u001b[38;5;124m\"\u001b[39m\u001b[38;5;124mMixing dicts with non-Series may lead to ambiguous ordering.\u001b[39m\u001b[38;5;124m\"\u001b[39m\n\u001b[0;32m    682\u001b[0m     )\n",
      "\u001b[1;31mValueError\u001b[0m: All arrays must be of the same length"
     ]
    }
   ],
   "source": [
    "ture_importance = best_rf4.named_steps['randomforestclassifier'].feature_importances_\n",
    "\n",
    "\n",
    "feature_importance_df = pd.DataFrame({\n",
    "    'Feature': X_train.columns,\n",
    "    'Importance': feature_importance\n",
    "})\n",
    "\n",
    "feature_importance_df = feature_importance_df.sort_values(by='Importance', ascending=True)\n",
    "\n",
    "plt.figure(figsize=(10,18))\n",
    "\n",
    "\n",
    "\n",
    "\n",
    "plt.figure(figsize=(10, 18))\n",
    "plt.barh(feature_importance_df['Feature'], feature_importance_df['Importance'], color='#ABC6E4')\n",
    "plt.xlabel('Feature Importance')\n",
    "plt.ylabel('Encoded Feature Names')\n",
    "plt.title('Feature Importance of Random Forest Model Predicting Agreeableness')\n",
    "plt.show()"
   ]
  },
  {
   "cell_type": "markdown",
   "id": "ec116dca",
   "metadata": {},
   "source": [
    "#### 4) KNN \n",
    "#### 10-fold gridsearch cv to fine tune the hyperparameters"
   ]
  },
  {
   "cell_type": "code",
   "execution_count": null,
   "id": "8fb82096",
   "metadata": {},
   "outputs": [
    {
     "name": "stdout",
     "output_type": "stream",
     "text": [
      "Fitting 10 folds for each of 44 candidates, totalling 440 fits\n",
      "best score: 0.5738811812967972\n",
      "best params: {'kneighborsclassifier__algorithm': 'auto', 'kneighborsclassifier__n_neighbors': 1}\n"
     ]
    }
   ],
   "source": [
    "knn4 = make_pipeline(KNeighborsClassifier())\n",
    "\n",
    "knn_param_grid4={'kneighborsclassifier__n_neighbors': [1, 2, 3, 4, 5, 6, 7, 8, 9, 10, 20],\n",
    "                'kneighborsclassifier__algorithm': ['auto', 'ball_tree', 'kd_tree', 'brute']}\n",
    "\n",
    "knn_gs4 = GridSearchCV(knn4, knn_param_grid4, cv=10, scoring='f1_macro', n_jobs=-1, verbose=1, refit=True)\n",
    "knn_gs4.fit(X_train4, y_train4)\n",
    "\n",
    "print(f\"best score: {knn_gs4.best_score_}\")\n",
    "print(f\"best params: {knn_gs4.best_params_}\")"
   ]
  },
  {
   "cell_type": "markdown",
   "id": "692ff456",
   "metadata": {},
   "source": [
    "#### 10-fold cv to make sure the model is not overfitting"
   ]
  },
  {
   "cell_type": "code",
   "execution_count": null,
   "id": "b9e1be81",
   "metadata": {},
   "outputs": [
    {
     "name": "stdout",
     "output_type": "stream",
     "text": [
      "[0.47333772 0.56825397 0.55729167 0.63570487 0.46136364 0.53529412\n",
      " 0.6127451  0.54259719 0.5594051  0.66655844]\n",
      "0.561255181724623\n",
      "0.06170960880088004\n"
     ]
    }
   ],
   "source": [
    "best_knn4 = knn_gs.best_estimator_\n",
    "\n",
    "cv_scores_knn4 = cross_val_score(best_knn4, X_train4, y_train4, cv=10, scoring='f1_macro')\n",
    "print(cv_scores_knn4)\n",
    "print(cv_scores_knn4.mean())\n",
    "print(cv_scores_knn4.std())"
   ]
  },
  {
   "cell_type": "markdown",
   "id": "c0ac8266",
   "metadata": {},
   "source": [
    "#### hold-out method to evaluate the classification performance"
   ]
  },
  {
   "cell_type": "code",
   "execution_count": null,
   "id": "6c6388cb",
   "metadata": {},
   "outputs": [
    {
     "name": "stdout",
     "output_type": "stream",
     "text": [
      "              precision    recall  f1-score   support\n",
      "\n",
      "        high       0.61      0.66      0.64       146\n",
      "         low       0.54      0.49      0.51       119\n",
      "\n",
      "    accuracy                           0.58       265\n",
      "   macro avg       0.58      0.58      0.58       265\n",
      "weighted avg       0.58      0.58      0.58       265\n",
      "\n"
     ]
    }
   ],
   "source": [
    "best_knn4.fit(X_train4,y_train4)\n",
    "knn_pred4 = best_knn4.predict(X_test4)\n",
    "print(classification_report(y_test4, knn_pred4))"
   ]
  },
  {
   "cell_type": "markdown",
   "id": "084f0b67",
   "metadata": {},
   "source": [
    "#### 5) SVM \n",
    "#### 10-fold gridsearch cv to fine tune the hyperparameters"
   ]
  },
  {
   "cell_type": "code",
   "execution_count": null,
   "id": "d9d9aefe",
   "metadata": {},
   "outputs": [
    {
     "name": "stdout",
     "output_type": "stream",
     "text": [
      "Fitting 10 folds for each of 20 candidates, totalling 200 fits\n",
      "best score: 0.5851455692734888\n",
      "best params: {'svc__C': 0.1, 'svc__kernel': 'rbf'}\n"
     ]
    }
   ],
   "source": [
    "svm4 = make_pipeline( SVC(class_weight='balanced', random_state=42))\n",
    "\n",
    "svm_param_grid4={'svc__kernel': ['linear', 'rbf', 'poly','sigmoid'],\n",
    "                'svc__C': [0.01, 0.1, 1.0, 10, 100]}\n",
    "\n",
    "svm_gs4 = GridSearchCV(svm4, svm_param_grid4, cv=10, scoring='f1_macro', n_jobs=-1, verbose=1, refit=True)\n",
    "svm_gs4.fit(X_train4, y_train4)\n",
    "\n",
    "print(f\"best score: {svm_gs4.best_score_}\")\n",
    "print(f\"best params: {svm_gs4.best_params_}\")"
   ]
  },
  {
   "cell_type": "markdown",
   "id": "83576e83",
   "metadata": {},
   "source": [
    "#### 10-fold cv to make sure the model is not overfitting"
   ]
  },
  {
   "cell_type": "code",
   "execution_count": null,
   "id": "16fe66e2",
   "metadata": {},
   "outputs": [
    {
     "name": "stdout",
     "output_type": "stream",
     "text": [
      "[0.51242382 0.62476548 0.62406015 0.65822785 0.57985496 0.5436457\n",
      " 0.59173127 0.61970475 0.49293967 0.54069767]\n",
      "0.5788051304904618\n",
      "0.05174652168842671\n"
     ]
    }
   ],
   "source": [
    "best_svm4 = svm_gs.best_estimator_\n",
    "\n",
    "cv_scores_svm4 = cross_val_score(best_svm4, X_train4, y_train4, cv=10, scoring='f1_macro')\n",
    "print(cv_scores_svm4)\n",
    "print(cv_scores_svm4.mean())\n",
    "print(cv_scores_svm4.std())"
   ]
  },
  {
   "cell_type": "markdown",
   "id": "730bd2f6",
   "metadata": {},
   "source": [
    "#### hold-out method to evaluate the classification performance"
   ]
  },
  {
   "cell_type": "code",
   "execution_count": null,
   "id": "9268929c",
   "metadata": {},
   "outputs": [
    {
     "name": "stdout",
     "output_type": "stream",
     "text": [
      "              precision    recall  f1-score   support\n",
      "\n",
      "        high       0.66      0.52      0.58       146\n",
      "         low       0.53      0.66      0.59       119\n",
      "\n",
      "    accuracy                           0.58       265\n",
      "   macro avg       0.59      0.59      0.58       265\n",
      "weighted avg       0.60      0.58      0.58       265\n",
      "\n"
     ]
    }
   ],
   "source": [
    "best_svm4.fit(X_train4,y_train4)\n",
    "svm_pred4 = best_svm4.predict(X_test4)\n",
    "print(classification_report(y_test4, svm_pred4))"
   ]
  },
  {
   "cell_type": "code",
   "execution_count": null,
   "id": "1d30f562",
   "metadata": {},
   "outputs": [],
   "source": []
  },
  {
   "cell_type": "markdown",
   "id": "d6c23040",
   "metadata": {},
   "source": [
    "### 2.5 Conscientiousness"
   ]
  },
  {
   "cell_type": "markdown",
   "id": "48e1542f",
   "metadata": {},
   "source": [
    "#### 2.5.1 Split data"
   ]
  },
  {
   "cell_type": "code",
   "execution_count": null,
   "id": "52168d74",
   "metadata": {},
   "outputs": [
    {
     "data": {
      "text/plain": [
       "((793, 22), (265, 22), (793,), (265,))"
      ]
     },
     "execution_count": 88,
     "metadata": {},
     "output_type": "execute_result"
    }
   ],
   "source": [
    "X5 = data[['FavouriteRole', 'LeastFavoriteRole', 'RoleMostPlay', 'RoleLeastPlay', 'BestRole','WorstRole',\n",
    "  'FavoritePosition', 'LeastFavoritePosition', 'BestPosition','WorstPosition','PositionMostPlay','PositionLeastPlay', \n",
    " 'Punish','Ignite', 'Smite', 'Ghost', 'Heal', 'Interfere', 'Stifle', 'Cleanse', 'Exhaust' ,'Flash']]\n",
    "y5 = data['Conscientiousness']\n",
    "\n",
    "X_train5, X_test5, y_train5, y_test5 = train_test_split(X5, y5, test_size=0.25, stratify=y5, random_state=42, shuffle=True,)\n",
    "X_train5.shape, X_test5.shape, y_train5.shape, y_test5.shape"
   ]
  },
  {
   "cell_type": "markdown",
   "id": "c34992e1",
   "metadata": {},
   "source": [
    "#### 2.5.2 Baseline model"
   ]
  },
  {
   "cell_type": "code",
   "execution_count": null,
   "id": "d8658be6",
   "metadata": {},
   "outputs": [
    {
     "name": "stdout",
     "output_type": "stream",
     "text": [
      "0.5044136191677175\n",
      "0.33583959899749377\n"
     ]
    }
   ],
   "source": [
    "dummy5 = DummyClassifier(strategy=\"most_frequent\", random_state=42)\n",
    "dummy5.fit(X_train5, y_train5)\n",
    "accuracy5 = dummy5.score(X_train5, y_train5)\n",
    "print(accuracy5)\n",
    "\n",
    "y_pred5 = dummy5.predict(X_test5)\n",
    "f1_5 = f1_score(y_test5, y_pred5, average='macro')\n",
    "print(f1_5)"
   ]
  },
  {
   "cell_type": "markdown",
   "id": "1c170885",
   "metadata": {},
   "source": [
    "#### 2.5.3 Model performance comparison (evaluation metric: macro F1 score)"
   ]
  },
  {
   "cell_type": "markdown",
   "id": "88fb3a6f",
   "metadata": {},
   "source": [
    "#### 1) LogisticRegression \n",
    "#### 10-fold gridsearch cv to fine tune the hyperparameters"
   ]
  },
  {
   "cell_type": "code",
   "execution_count": null,
   "id": "ddf5ab77",
   "metadata": {},
   "outputs": [
    {
     "name": "stdout",
     "output_type": "stream",
     "text": [
      "Fitting 10 folds for each of 20 candidates, totalling 200 fits\n"
     ]
    },
    {
     "name": "stdout",
     "output_type": "stream",
     "text": [
      "best score: 0.6869485752119069\n",
      "best params: {'logisticregression__C': 0.1, 'logisticregression__solver': 'sag'}\n"
     ]
    }
   ],
   "source": [
    "lr5 = make_pipeline(LogisticRegression(class_weight='balanced', random_state=42))\n",
    "\n",
    "lr_param_grid5={'logisticregression__C': [0.01, 0.1, 1.0, 10, 100],\n",
    "               'logisticregression__solver': ['newton-cg', 'sag', 'saga','lbfgs']}\n",
    "\n",
    "lr_gs5 = GridSearchCV(lr5, lr_param_grid5, cv=10, scoring='f1_macro', n_jobs=-1, verbose=1, refit=True)\n",
    "lr_gs5.fit(X_train5, y_train5)\n",
    "\n",
    "print(f\"best score: {lr_gs5.best_score_}\")\n",
    "print(f\"best params: {lr_gs5.best_params_}\")"
   ]
  },
  {
   "cell_type": "markdown",
   "id": "ba0bc4a2",
   "metadata": {},
   "source": [
    "#### 10-fold cv to make sure the model is not overfitting"
   ]
  },
  {
   "cell_type": "code",
   "execution_count": null,
   "id": "4831cf80",
   "metadata": {},
   "outputs": [
    {
     "name": "stdout",
     "output_type": "stream",
     "text": [
      "[0.62476548 0.625      0.68705993 0.64551282 0.77211538 0.63196787\n",
      " 0.73263497 0.6957638  0.74679487 0.6573494 ]\n",
      "0.681896452398738\n",
      "0.05105386074319661\n"
     ]
    }
   ],
   "source": [
    "best_lr5 = lr_gs.best_estimator_\n",
    "\n",
    "cv_scores_lr5 = cross_val_score(best_lr5, X_train5, y_train5, cv=10, scoring='f1_macro')\n",
    "print(cv_scores_lr5)\n",
    "print(cv_scores_lr5.mean())\n",
    "print(cv_scores_lr5.std())"
   ]
  },
  {
   "cell_type": "markdown",
   "id": "01f52970",
   "metadata": {},
   "source": [
    "##### hold-out method to evaluate the classification performance"
   ]
  },
  {
   "cell_type": "code",
   "execution_count": null,
   "id": "5bb44859",
   "metadata": {},
   "outputs": [
    {
     "name": "stdout",
     "output_type": "stream",
     "text": [
      "              precision    recall  f1-score   support\n",
      "\n",
      "        high       0.71      0.66      0.68       134\n",
      "         low       0.67      0.73      0.70       131\n",
      "\n",
      "    accuracy                           0.69       265\n",
      "   macro avg       0.69      0.69      0.69       265\n",
      "weighted avg       0.69      0.69      0.69       265\n",
      "\n"
     ]
    }
   ],
   "source": [
    "best_lr5.fit(X_train5,y_train5)\n",
    "lr_pred5 = best_lr5.predict(X_test5)\n",
    "print(classification_report(y_test5, lr_pred5))"
   ]
  },
  {
   "cell_type": "markdown",
   "id": "1421eb75",
   "metadata": {},
   "source": [
    "#### feature importance"
   ]
  },
  {
   "cell_type": "code",
   "execution_count": null,
   "id": "9b172ca5",
   "metadata": {},
   "outputs": [
    {
     "name": "stdout",
     "output_type": "stream",
     "text": [
      "                Feature  Importance\n",
      "80            Cleanse_0    0.209619\n",
      "68             Ignite_0    0.144587\n",
      "78             Stifle_0    0.131851\n",
      "72              Ghost_0    0.104659\n",
      "84              Flash_0    0.102052\n",
      "..                  ...         ...\n",
      "73              Ghost_1   -0.110875\n",
      "65  PositionLeastPlay_5   -0.127751\n",
      "79             Stifle_1   -0.138067\n",
      "69             Ignite_1   -0.150802\n",
      "81            Cleanse_1   -0.215834\n",
      "\n",
      "[86 rows x 2 columns]\n"
     ]
    },
    {
     "data": {
      "image/png": "[encoded data removed]",
      "text/plain": [
       "<Figure size 1000x1800 with 1 Axes>"
      ]
     },
     "metadata": {},
     "output_type": "display_data"
    }
   ],
   "source": [
    "logistic_model = best_lr5.named_steps['logisticregression']\n",
    "\n",
    "feature_importance_df = pd.DataFrame({\n",
    "    'Feature': X_train5.columns,\n",
    "    'Importance': feature_importance\n",
    "})\n",
    "\n",
    "feature_importance_df = feature_importance_df.sort_values(by='Importance', ascending=True)\n",
    "\n",
    "\n",
    "plt.figure(figsize=(10, 18))\n",
    "plt.barh(importance_df['Feature'], importance_df['Importance'], color='#ABC6E4')\n",
    "plt.xlabel('Feature Importance')\n",
    "plt.ylabel('Encoded Feature Names')\n",
    "plt.title('Feature Importance of Logistic Regression Model Predicting Conscientiousness')\n",
    "plt.gca().invert_yaxis()  \n",
    "plt.show()\n"
   ]
  },
  {
   "cell_type": "markdown",
   "id": "8764b1be",
   "metadata": {},
   "source": [
    "#### 2) DecisionTree \n",
    "#### 10-fold gridsearch cv to fine tune the hyperparameters"
   ]
  },
  {
   "cell_type": "code",
   "execution_count": null,
   "id": "61b3364e",
   "metadata": {},
   "outputs": [
    {
     "name": "stdout",
     "output_type": "stream",
     "text": [
      "Fitting 10 folds for each of 27 candidates, totalling 270 fits\n",
      "best score: 0.6052335240441561\n",
      "best params: {'decisiontreeclassifier__criterion': 'entropy', 'decisiontreeclassifier__max_depth': 30}\n"
     ]
    }
   ],
   "source": [
    "dt5 = make_pipeline(DecisionTreeClassifier(class_weight='balanced', random_state=42))\n",
    "\n",
    "dt_param_grid5={'decisiontreeclassifier__criterion': ['gini', 'entropy', 'log_loss'],\n",
    "               'decisiontreeclassifier__max_depth': [20, 30, 40, 50, 60, 70, 80, 90, 100]}\n",
    "\n",
    "dt_gs5 = GridSearchCV(dt5, dt_param_grid5, cv=10, scoring='f1_macro', n_jobs=-1, verbose=1, refit=True)\n",
    "dt_gs5.fit(X_train5, y_train5)\n",
    "\n",
    "print(f\"best score: {dt_gs5.best_score_}\")\n",
    "print(f\"best params: {dt_gs5.best_params_}\")"
   ]
  },
  {
   "cell_type": "markdown",
   "id": "3bc54ee2",
   "metadata": {},
   "source": [
    "#### 10-fold cv to make sure the model is not overfitting"
   ]
  },
  {
   "cell_type": "code",
   "execution_count": null,
   "id": "96be04a0",
   "metadata": {},
   "outputs": [
    {
     "name": "stdout",
     "output_type": "stream",
     "text": [
      "[0.675      0.58736299 0.59899749 0.61872587 0.52892828 0.49293967\n",
      " 0.58227848 0.73417722 0.58120482 0.59435173]\n",
      "0.5993966552430161\n",
      "0.06430284588669317\n"
     ]
    }
   ],
   "source": [
    "best_dt5 = dt_gs.best_estimator_\n",
    "\n",
    "cv_scores_dt5 = cross_val_score(best_dt5, X_train5, y_train5, cv=10, scoring='f1_macro')\n",
    "print(cv_scores_dt5)\n",
    "print(cv_scores_dt5.mean())\n",
    "print(cv_scores_dt5.std())"
   ]
  },
  {
   "cell_type": "markdown",
   "id": "0b7452d6",
   "metadata": {},
   "source": [
    "##### hold-out method to evaluate the classification performance"
   ]
  },
  {
   "cell_type": "code",
   "execution_count": null,
   "id": "43f14b39",
   "metadata": {},
   "outputs": [
    {
     "name": "stdout",
     "output_type": "stream",
     "text": [
      "              precision    recall  f1-score   support\n",
      "\n",
      "        high       0.63      0.61      0.62       134\n",
      "         low       0.61      0.63      0.62       131\n",
      "\n",
      "    accuracy                           0.62       265\n",
      "   macro avg       0.62      0.62      0.62       265\n",
      "weighted avg       0.62      0.62      0.62       265\n",
      "\n"
     ]
    }
   ],
   "source": [
    "best_dt5.fit(X_train5,y_train5)\n",
    "dt_pred5 = best_dt5.predict(X_test5)\n",
    "print(classification_report(y_test5, dt_pred5))"
   ]
  },
  {
   "cell_type": "markdown",
   "id": "845a7d31",
   "metadata": {},
   "source": [
    "#### 3) RandomForest \n",
    "#### 10-fold gridsearch cv to fine tune the hyperparameters"
   ]
  },
  {
   "cell_type": "code",
   "execution_count": null,
   "id": "02b58359",
   "metadata": {},
   "outputs": [
    {
     "name": "stdout",
     "output_type": "stream",
     "text": [
      "Fitting 10 folds for each of 27 candidates, totalling 270 fits\n",
      "best score: 0.6914629803370398\n",
      "best params: {'randomforestclassifier__criterion': 'gini', 'randomforestclassifier__max_depth': 30, 'randomforestclassifier__n_estimators': 500}\n"
     ]
    }
   ],
   "source": [
    "rf5 = make_pipeline(RandomForestClassifier(class_weight='balanced', random_state=42))\n",
    "\n",
    "rf_param_grid5={'randomforestclassifier__n_estimators': [150, 300, 500],\n",
    "               'randomforestclassifier__criterion': ['gini', 'entropy', 'log_loss'],\n",
    "               'randomforestclassifier__max_depth': [30, 40, 50]}\n",
    "\n",
    "rf_gs5 = GridSearchCV(rf5, rf_param_grid5, cv=10, scoring='f1_macro', n_jobs=-1, verbose=1, refit=True)\n",
    "rf_gs5.fit(X_train5, y_train5)\n",
    "\n",
    "print(f\"best score: {rf_gs5.best_score_}\")\n",
    "print(f\"best params: {rf_gs5.best_params_}\")"
   ]
  },
  {
   "cell_type": "markdown",
   "id": "de4f67c7",
   "metadata": {},
   "source": [
    "#### 10-fold cv to make sure the model is not overfitting"
   ]
  },
  {
   "cell_type": "code",
   "execution_count": null,
   "id": "c4aac485",
   "metadata": {},
   "outputs": [
    {
     "name": "stdout",
     "output_type": "stream",
     "text": [
      "[0.63698952 0.64646465 0.67479675 0.70811245 0.65800866 0.70411985\n",
      " 0.57547631 0.73400673 0.72039897 0.75949367]\n",
      "0.6817867551017041\n",
      "0.05159323301616622\n"
     ]
    }
   ],
   "source": [
    "best_rf5 = rf_gs.best_estimator_\n",
    "\n",
    "cv_scores_rf5 = cross_val_score(best_rf5, X_train5, y_train5, cv=10, scoring='f1_macro')\n",
    "print(cv_scores_rf5)\n",
    "print(cv_scores_rf5.mean())\n",
    "print(cv_scores_rf5.std())"
   ]
  },
  {
   "cell_type": "markdown",
   "id": "af68bd2b",
   "metadata": {},
   "source": [
    "##### hold-out method to evaluate the classification performance"
   ]
  },
  {
   "cell_type": "code",
   "execution_count": null,
   "id": "a503f63a",
   "metadata": {},
   "outputs": [
    {
     "name": "stdout",
     "output_type": "stream",
     "text": [
      "              precision    recall  f1-score   support\n",
      "\n",
      "        high       0.65      0.72      0.68       134\n",
      "         low       0.68      0.61      0.64       131\n",
      "\n",
      "    accuracy                           0.66       265\n",
      "   macro avg       0.67      0.66      0.66       265\n",
      "weighted avg       0.67      0.66      0.66       265\n",
      "\n"
     ]
    }
   ],
   "source": [
    "best_rf5.fit(X_train5,y_train5)\n",
    "rf_pred5 = best_rf5.predict(X_test5)\n",
    "print(classification_report(y_test5, rf_pred5))"
   ]
  },
  {
   "cell_type": "markdown",
   "id": "c7c775a6",
   "metadata": {},
   "source": [
    "#### 4) KNN \n",
    "#### 10-fold gridsearch cv to fine tune the hyperparameters"
   ]
  },
  {
   "cell_type": "code",
   "execution_count": null,
   "id": "1aeaff3b",
   "metadata": {},
   "outputs": [
    {
     "name": "stdout",
     "output_type": "stream",
     "text": [
      "Fitting 10 folds for each of 44 candidates, totalling 440 fits\n",
      "best score: 0.6541236863032398\n",
      "best params: {'kneighborsclassifier__algorithm': 'auto', 'kneighborsclassifier__n_neighbors': 7}\n"
     ]
    }
   ],
   "source": [
    "knn5 = make_pipeline(KNeighborsClassifier())\n",
    "\n",
    "knn_param_grid5={'kneighborsclassifier__n_neighbors': [1, 2, 3, 4, 5, 6, 7, 8, 9, 10, 20],\n",
    "                'kneighborsclassifier__algorithm': ['auto', 'ball_tree', 'kd_tree', 'brute']}\n",
    "\n",
    "knn_gs5 = GridSearchCV(knn5, knn_param_grid5, cv=10, scoring='f1_macro', n_jobs=-1, verbose=1, refit=True)\n",
    "knn_gs5.fit(X_train5, y_train5)\n",
    "\n",
    "print(f\"best score: {knn_gs5.best_score_}\")\n",
    "print(f\"best params: {knn_gs5.best_params_}\")"
   ]
  },
  {
   "cell_type": "markdown",
   "id": "ed4b561c",
   "metadata": {},
   "source": [
    "#### 10-fold cv to make sure the model is not overfitting"
   ]
  },
  {
   "cell_type": "code",
   "execution_count": null,
   "id": "f608f088",
   "metadata": {},
   "outputs": [
    {
     "name": "stdout",
     "output_type": "stream",
     "text": [
      "[0.53568627 0.59974984 0.62287869 0.70867404 0.72111682 0.6957638\n",
      " 0.59435173 0.62019231 0.69379845 0.68334135]\n",
      "0.6475553309293922\n",
      "0.05820503019046084\n"
     ]
    }
   ],
   "source": [
    "best_knn5 = knn_gs.best_estimator_\n",
    "\n",
    "cv_scores_knn5 = cross_val_score(best_knn5, X_train5, y_train5, cv=10, scoring='f1_macro')\n",
    "print(cv_scores_knn5)\n",
    "print(cv_scores_knn5.mean())\n",
    "print(cv_scores_knn5.std())"
   ]
  },
  {
   "cell_type": "markdown",
   "id": "cab6a5da",
   "metadata": {},
   "source": [
    "##### hold-out method to evaluate the classification performance"
   ]
  },
  {
   "cell_type": "code",
   "execution_count": null,
   "id": "c1592994",
   "metadata": {},
   "outputs": [
    {
     "name": "stdout",
     "output_type": "stream",
     "text": [
      "              precision    recall  f1-score   support\n",
      "\n",
      "        high       0.64      0.67      0.66       134\n",
      "         low       0.65      0.62      0.63       131\n",
      "\n",
      "    accuracy                           0.65       265\n",
      "   macro avg       0.65      0.64      0.64       265\n",
      "weighted avg       0.65      0.65      0.65       265\n",
      "\n"
     ]
    }
   ],
   "source": [
    "best_knn5.fit(X_train5,y_train5)\n",
    "knn_pred5 = best_knn5.predict(X_test5)\n",
    "print(classification_report(y_test5, knn_pred5))"
   ]
  },
  {
   "cell_type": "markdown",
   "id": "353bd657",
   "metadata": {},
   "source": [
    "#### 5) SVM \n",
    "#### 10-fold gridsearch cv to fune tune the hyperparameters"
   ]
  },
  {
   "cell_type": "code",
   "execution_count": null,
   "id": "680ceb09",
   "metadata": {},
   "outputs": [
    {
     "name": "stdout",
     "output_type": "stream",
     "text": [
      "Fitting 10 folds for each of 20 candidates, totalling 200 fits\n",
      "best score: 0.6862822053971036\n",
      "best params: {'svc__C': 1.0, 'svc__kernel': 'rbf'}\n"
     ]
    }
   ],
   "source": [
    "svm5 = make_pipeline(SVC(class_weight='balanced', random_state=42))\n",
    "\n",
    "svm_param_grid5={'svc__kernel': ['linear', 'rbf', 'poly','sigmoid'],\n",
    "                'svc__C': [0.01, 0.1, 1.0, 10, 100]}\n",
    "\n",
    "svm_gs5 = GridSearchCV(svm5, svm_param_grid5, cv=10, scoring='f1_macro', n_jobs=-1, verbose=1, refit=True)\n",
    "svm_gs5.fit(X_train5, y_train5)\n",
    "\n",
    "print(f\"best score: {svm_gs5.best_score_}\")\n",
    "print(f\"best params: {svm_gs5.best_params_}\")"
   ]
  },
  {
   "cell_type": "markdown",
   "id": "5b85f818",
   "metadata": {},
   "source": [
    "#### 10-fold cv to make sure the model is not overfitting"
   ]
  },
  {
   "cell_type": "code",
   "execution_count": null,
   "id": "78ce6c75",
   "metadata": {},
   "outputs": [
    {
     "name": "stdout",
     "output_type": "stream",
     "text": [
      "[0.56243163 0.65989608 0.71245507 0.68334135 0.74646983 0.64090909\n",
      " 0.66655844 0.68334135 0.74581725 0.68334135]\n",
      "0.6784561441832833\n",
      "0.05074288431322097\n"
     ]
    }
   ],
   "source": [
    "best_svm5 = svm_gs.best_estimator_\n",
    "\n",
    "cv_scores_svm5 = cross_val_score(best_svm5, X_train5, y_train5, cv=10, scoring='f1_macro')\n",
    "print(cv_scores_svm5)\n",
    "print(cv_scores_svm5.mean())\n",
    "print(cv_scores_svm5.std())"
   ]
  },
  {
   "cell_type": "markdown",
   "id": "99655358",
   "metadata": {},
   "source": [
    "##### hold-out method to evaluate the classification performance"
   ]
  },
  {
   "cell_type": "code",
   "execution_count": null,
   "id": "926029e7",
   "metadata": {},
   "outputs": [
    {
     "name": "stdout",
     "output_type": "stream",
     "text": [
      "              precision    recall  f1-score   support\n",
      "\n",
      "        high       0.68      0.72      0.70       134\n",
      "         low       0.69      0.65      0.67       131\n",
      "\n",
      "    accuracy                           0.68       265\n",
      "   macro avg       0.68      0.68      0.68       265\n",
      "weighted avg       0.68      0.68      0.68       265\n",
      "\n"
     ]
    }
   ],
   "source": [
    "best_svm5.fit(X_train5,y_train5)\n",
    "svm_pred5 = best_svm5.predict(X_test5)\n",
    "print(classification_report(y_test5, svm_pred5))"
   ]
  },
  {
   "cell_type": "code",
   "execution_count": null,
   "id": "88b6689e",
   "metadata": {},
   "outputs": [],
   "source": []
  }
 ],
 "metadata": {
  "kernelspec": {
   "display_name": "base",
   "language": "python",
   "name": "python3"
  },
  "language_info": {
   "codemirror_mode": {
    "name": "ipython",
    "version": 3
   },
   "file_extension": ".py",
   "mimetype": "text/x-python",
   "name": "python",
   "nbconvert_exporter": "python",
   "pygments_lexer": "ipython3",
   "version": "3.10.13"
  }
 },
 "nbformat": 4,
 "nbformat_minor": 5
}
